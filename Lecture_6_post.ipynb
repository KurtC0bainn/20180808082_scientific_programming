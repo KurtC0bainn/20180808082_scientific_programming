{
  "cells": [
    {
      "cell_type": "markdown",
      "metadata": {
        "id": "ejS3MeQRKDaf"
      },
      "source": [
        "# CME 193 - Lecture 6 - Pandas\n",
        "\n",
        "Before we get started, you may want to make sure that you have the following packages installed in whatever environment you're using: `pandas`\n",
        "\n",
        "```bash\n",
        "conda install pandas\n",
        "```\n",
        "\n",
        "If you are in colab, it should be preinstalled\n",
        "\n",
        "Pandas is a package for working with tabular data.  \n"
      ]
    },
    {
      "cell_type": "markdown",
      "metadata": {
        "id": "AsQZswUBKDav"
      },
      "source": [
        "# Pandas\n",
        "\n",
        "[Pandas](https://pandas.pydata.org/) is a Python library for dealing with data.  The main thing you'll hear people talk about is the DataFrame object (inspired by R), which is designed to hold tabular data.\n",
        "\n",
        "## Difference between a DataFrame and NumPy Array\n",
        "\n",
        "Pandas DataFrames and NumPy arrays both have similarities to Python lists.  \n",
        "* Numpy arrays are designed to contain data of one type (e.g. Int, Float, ...)\n",
        "* DataFrames can contain different types of data (Int, Float, String, ...)\n",
        "    * Usually each column has the same type\n",
        "    \n",
        "    \n",
        "Both arrays and DataFrames are optimized for storage/performance beyond Python lists\n",
        "\n",
        "Pandas is also powerful for working with missing data, working with time series data, for reading and writing your data, for reshaping, grouping, merging your data, ...\n",
        "\n",
        "## Key Features\n",
        "\n",
        "* File I/O - integrations with multiple file formats\n",
        "* Working with missing data (.dropna(), pd.isnull())\n",
        "* Normal table operations: merging and joining, groupby functionality, reshaping via stack, and pivot_tables,\n",
        "* Time series-specific functionality:\n",
        "    * date range generation and frequency conversion, moving window statistics/regressions, date shifting and lagging, etc.\n",
        "* Built in Matplotlib integration\n",
        "\n",
        "## Other Strengths\n",
        "\n",
        "* Strong community, support, and documentation\n",
        "* Size mutability: columns can be inserted and deleted from DataFrame and higher dimensional objects\n",
        "* Powerful, flexible group by functionality to perform split-apply-combine operations on data sets, for both aggregating and transforming data\n",
        "* Make it easy to convert ragged, differently-indexed data in other Python and NumPy data structures into DataFrame objects Intelligent label-based slicing, fancy indexing, and subsetting of large data sets\n",
        "\n",
        "## Python/Pandas vs. R\n",
        "\n",
        "* R is a language dedicated to statistics. Python is a general-purpose language with statistics modules.\n",
        "* R has more statistical analysis features than Python, and specialized syntaxes.\n",
        "\n",
        "However, when it comes to building complex analysis pipelines that mix statistics with e.g. image analysis, text mining, or control of a physical experiment, the richness of Python is an invaluable asset."
      ]
    },
    {
      "cell_type": "markdown",
      "metadata": {
        "id": "nAGqYJlMKDax"
      },
      "source": [
        "# Getting Started\n",
        "\n",
        "[Here](https://pandas.pydata.org/pandas-docs/stable/generated/pandas.DataFrame.html) is a link to the documentation for DataFrames"
      ]
    },
    {
      "cell_type": "code",
      "execution_count": null,
      "metadata": {
        "id": "bs6ytEDAKDaz"
      },
      "outputs": [],
      "source": [
        "import pandas as pd\n",
        "import numpy as np"
      ]
    },
    {
      "cell_type": "markdown",
      "metadata": {
        "id": "ygsF4h2_KDa1"
      },
      "source": [
        "## Objects and Basic Creation\n",
        "\n",
        "| Name | Dimensions | Description  |\n",
        "| ------:| -----------:|----------|\n",
        "| ```pd.Series``` | 1 | 1D labeled homogeneously-typed array |\n",
        "| ```pd.DataFrame```  | 2| General 2D labeled, size-mutable tabular structure |\n",
        "| ```pd.Panel``` | 3|  General 3D labeled, also size-mutable array |\n",
        "\n",
        "# Series\n",
        "## What are they?\n",
        "- Series is a one-dimensional labeled array capable of holding any data type (integers, strings, floating point numbers, Python objects, etc.). The axis labels are collectively referred to as the index.\n",
        "- Basic method to create a series: \n",
        "```s = pd.Series(data, index = index) ```\n",
        "- Data Can be many things:\n",
        "    * A Python Dictionary\n",
        "    * An ndarray (or regular Python list)\n",
        "    * A scalar \n",
        "- The passed index is a list of axis labels (which varies on what data is)\n",
        "\n",
        "Think \"Series = Vector + labels\""
      ]
    },
    {
      "cell_type": "code",
      "execution_count": null,
      "metadata": {
        "scrolled": true,
        "id": "EsGiO-k2KDa3",
        "outputId": "aeb9cfe5-66f5-4711-ca3f-dfc53ee29e12"
      },
      "outputs": [
        {
          "name": "stdout",
          "output_type": "stream",
          "text": [
            "<class 'pandas.core.series.Series'>\n",
            "0     1\n",
            "1     2\n",
            "2     4\n",
            "3     8\n",
            "4    16\n",
            "5    32\n",
            "6    64\n",
            "dtype: int64\n"
          ]
        },
        {
          "data": {
            "text/plain": [
              "1"
            ]
          },
          "execution_count": 4,
          "metadata": {},
          "output_type": "execute_result"
        }
      ],
      "source": [
        "first_series = pd.Series([1,2,4,8,16,32,64])\n",
        "print(type(first_series))\n",
        "print(first_series)\n",
        "first_series[0]"
      ]
    },
    {
      "cell_type": "code",
      "execution_count": null,
      "metadata": {
        "scrolled": true,
        "id": "oZyFCh4QKDa6",
        "outputId": "0bb1cf5a-e84a-4bbd-9e2e-38c44ca56382"
      },
      "outputs": [
        {
          "name": "stdout",
          "output_type": "stream",
          "text": [
            "a   -0.497765\n",
            "b   -0.316603\n",
            "c    0.031222\n",
            "d   -0.403823\n",
            "e   -1.032585\n",
            "dtype: float64\n",
            "--------------------------------------------------\n",
            "Index(['a', 'b', 'c', 'd', 'e'], dtype='object')\n"
          ]
        },
        {
          "data": {
            "text/plain": [
              "-1.0325854553436944"
            ]
          },
          "execution_count": 3,
          "metadata": {},
          "output_type": "execute_result"
        }
      ],
      "source": [
        "s = pd.Series(np.random.randn(5), index=['a', 'b', 'c', 'd', 'e'])\n",
        "print(s)\n",
        "print('-'*50)\n",
        "print(s.index)\n",
        "s['e']"
      ]
    },
    {
      "cell_type": "markdown",
      "metadata": {
        "id": "_6n6c-3dKDa8"
      },
      "source": [
        "If Data is a dictionary, if index is passed the values in data corresponding to the labels in the index will be pulled out, otherwise an index will be constructed from the sorted keys of the dict"
      ]
    },
    {
      "cell_type": "code",
      "execution_count": null,
      "metadata": {
        "scrolled": false,
        "id": "SAGgF3R5KDa9",
        "outputId": "6c150b9d-27e6-4364-d406-4b315f8dc4f2"
      },
      "outputs": [
        {
          "data": {
            "text/plain": [
              "a      [0.0, 0]\n",
              "2           2.0\n",
              "b    {'1': 1.0}\n",
              "dtype: object"
            ]
          },
          "execution_count": 5,
          "metadata": {},
          "output_type": "execute_result"
        }
      ],
      "source": [
        "d = {'a': [0., 0], 2: 2., 'b': {'1':1.}}\n",
        "pd.Series(d)"
      ]
    },
    {
      "cell_type": "markdown",
      "metadata": {
        "id": "9o_Frl2CKDbD"
      },
      "source": [
        "You can create a series from a scalar, but need to specify indices"
      ]
    },
    {
      "cell_type": "code",
      "execution_count": null,
      "metadata": {
        "id": "HwlWzMB6KDbE",
        "outputId": "f94d80a5-2ddd-4520-a3a7-202dc10053ef"
      },
      "outputs": [
        {
          "data": {
            "text/plain": [
              "a    5\n",
              "b    5\n",
              "c    5\n",
              "dtype: int64"
            ]
          },
          "execution_count": 6,
          "metadata": {},
          "output_type": "execute_result"
        }
      ],
      "source": [
        "pd.Series(5, index = ['a', 'b', 'c'])"
      ]
    },
    {
      "cell_type": "markdown",
      "metadata": {
        "id": "y0oBNndGKDbF"
      },
      "source": [
        "You can index and slice series like you would numpy arrays/python lists"
      ]
    },
    {
      "cell_type": "code",
      "execution_count": null,
      "metadata": {
        "scrolled": true,
        "id": "M0Zz9gRKKDbG",
        "outputId": "3d4e9b0b-c16e-431a-93d4-f9b263742172"
      },
      "outputs": [
        {
          "data": {
            "text/plain": [
              "a   -0.408210\n",
              "b   -0.259176\n",
              "c   -0.154629\n",
              "d   -0.306578\n",
              "e    0.992568\n",
              "dtype: float64"
            ]
          },
          "execution_count": 8,
          "metadata": {},
          "output_type": "execute_result"
        }
      ],
      "source": [
        "end_string = '\\n' + '-'*50 + '\\n'\n",
        "s = pd.Series(np.random.randn(5), index=['a', 'b', 'c', 'd', 'e'])\n",
        "s"
      ]
    },
    {
      "cell_type": "code",
      "execution_count": null,
      "metadata": {
        "id": "QDgvENZvKDbH",
        "outputId": "9cbd3656-bc15-466a-c612-108fefbc0f0a"
      },
      "outputs": [
        {
          "data": {
            "text/plain": [
              "True"
            ]
          },
          "execution_count": 10,
          "metadata": {},
          "output_type": "execute_result"
        }
      ],
      "source": [
        "s[1] == s['b']"
      ]
    },
    {
      "cell_type": "code",
      "execution_count": null,
      "metadata": {
        "id": "V1Fqs8rfKDbI",
        "outputId": "74165690-d899-41cf-b622-16e579a8c257"
      },
      "outputs": [
        {
          "name": "stdout",
          "output_type": "stream",
          "text": [
            "-0.40821006947274113\n",
            "--------------------------------------------------\n",
            "a   -0.408210\n",
            "b   -0.259176\n",
            "c   -0.154629\n",
            "dtype: float64\n",
            "--------------------------------------------------\n",
            "a   -0.408210\n",
            "b   -0.259176\n",
            "c   -0.154629\n",
            "dtype: float64\n",
            "--------------------------------------------------\n"
          ]
        }
      ],
      "source": [
        "print(s[0], end = end_string)\n",
        "# slicing\n",
        "print(s[:3], end =end_string)\n",
        "#alternate slicing\n",
        "print(s['a':'c'], end = end_string)"
      ]
    },
    {
      "cell_type": "code",
      "execution_count": null,
      "metadata": {
        "id": "eIeSd8MGKDbJ",
        "outputId": "80285e6c-b23d-4899-ac2b-e0fd3c6a22a3"
      },
      "outputs": [
        {
          "data": {
            "text/plain": [
              "a    1.616830\n",
              "d   -0.385951\n",
              "d    0.271721\n",
              "dtype: float64"
            ]
          },
          "execution_count": 15,
          "metadata": {},
          "output_type": "execute_result"
        }
      ],
      "source": [
        "s1 = pd.Series(np.random.randn(5), index=['a', 'd', 'd', 'b', 'e'])\n",
        "s1['a':'d']"
      ]
    },
    {
      "cell_type": "code",
      "execution_count": null,
      "metadata": {
        "id": "fd4wD87uKDbK",
        "outputId": "594b0dcc-5c5c-451c-bb2e-deb1924ab8aa"
      },
      "outputs": [
        {
          "data": {
            "text/plain": [
              "a    1.616830\n",
              "d   -0.385951\n",
              "d    0.271721\n",
              "dtype: float64"
            ]
          },
          "execution_count": 16,
          "metadata": {},
          "output_type": "execute_result"
        }
      ],
      "source": [
        "s1[:3]"
      ]
    },
    {
      "cell_type": "code",
      "execution_count": null,
      "metadata": {
        "id": "KT_qFo8xKDbL",
        "outputId": "ec287854-128f-4370-ce0c-05da0c46505a"
      },
      "outputs": [
        {
          "data": {
            "text/plain": [
              "a   -1.197466\n",
              "b   -0.609178\n",
              "c    1.072370\n",
              "dtype: float64"
            ]
          },
          "execution_count": 25,
          "metadata": {},
          "output_type": "execute_result"
        }
      ],
      "source": [
        "s1 = pd.Series(np.random.randn(5), index=['a', 'b', 'c', 'cb', 'e'])\n",
        "s1['a':'ca']"
      ]
    },
    {
      "cell_type": "code",
      "execution_count": null,
      "metadata": {
        "id": "kpbjZhlTKDbL",
        "outputId": "444b3515-4fea-4315-a702-d964b83bdf33"
      },
      "outputs": [
        {
          "ename": "KeyError",
          "evalue": "'b'",
          "output_type": "error",
          "traceback": [
            "\u001b[0;31m---------------------------------------------------------------------------\u001b[0m",
            "\u001b[0;31mKeyError\u001b[0m                                  Traceback (most recent call last)",
            "\u001b[0;32m~/opt/anaconda3/lib/python3.9/site-packages/pandas/core/indexes/base.py\u001b[0m in \u001b[0;36mget_loc\u001b[0;34m(self, key, method, tolerance)\u001b[0m\n\u001b[1;32m   3360\u001b[0m             \u001b[0;32mtry\u001b[0m\u001b[0;34m:\u001b[0m\u001b[0;34m\u001b[0m\u001b[0;34m\u001b[0m\u001b[0m\n\u001b[0;32m-> 3361\u001b[0;31m                 \u001b[0;32mreturn\u001b[0m \u001b[0mself\u001b[0m\u001b[0;34m.\u001b[0m\u001b[0m_engine\u001b[0m\u001b[0;34m.\u001b[0m\u001b[0mget_loc\u001b[0m\u001b[0;34m(\u001b[0m\u001b[0mcasted_key\u001b[0m\u001b[0;34m)\u001b[0m\u001b[0;34m\u001b[0m\u001b[0;34m\u001b[0m\u001b[0m\n\u001b[0m\u001b[1;32m   3362\u001b[0m             \u001b[0;32mexcept\u001b[0m \u001b[0mKeyError\u001b[0m \u001b[0;32mas\u001b[0m \u001b[0merr\u001b[0m\u001b[0;34m:\u001b[0m\u001b[0;34m\u001b[0m\u001b[0;34m\u001b[0m\u001b[0m\n",
            "\u001b[0;32m~/opt/anaconda3/lib/python3.9/site-packages/pandas/_libs/index.pyx\u001b[0m in \u001b[0;36mpandas._libs.index.IndexEngine.get_loc\u001b[0;34m()\u001b[0m\n",
            "\u001b[0;32m~/opt/anaconda3/lib/python3.9/site-packages/pandas/_libs/index.pyx\u001b[0m in \u001b[0;36mpandas._libs.index.IndexEngine.get_loc\u001b[0;34m()\u001b[0m\n",
            "\u001b[0;32m~/opt/anaconda3/lib/python3.9/site-packages/pandas/_libs/index.pyx\u001b[0m in \u001b[0;36mpandas._libs.index.IndexEngine._get_loc_duplicates\u001b[0;34m()\u001b[0m\n",
            "\u001b[0;32m~/opt/anaconda3/lib/python3.9/site-packages/pandas/_libs/index.pyx\u001b[0m in \u001b[0;36mpandas._libs.index.IndexEngine._maybe_get_bool_indexer\u001b[0;34m()\u001b[0m\n",
            "\u001b[0;32m~/opt/anaconda3/lib/python3.9/site-packages/pandas/_libs/index.pyx\u001b[0m in \u001b[0;36mpandas._libs.index.IndexEngine._unpack_bool_indexer\u001b[0;34m()\u001b[0m\n",
            "\u001b[0;31mKeyError\u001b[0m: 'b'",
            "\nThe above exception was the direct cause of the following exception:\n",
            "\u001b[0;31mKeyError\u001b[0m                                  Traceback (most recent call last)",
            "\u001b[0;32m/var/folders/gc/zfy2pjf944jdkfwzcppblklw0000gn/T/ipykernel_13732/3058377164.py\u001b[0m in \u001b[0;36m<module>\u001b[0;34m\u001b[0m\n\u001b[1;32m      1\u001b[0m \u001b[0ms1\u001b[0m \u001b[0;34m=\u001b[0m \u001b[0mpd\u001b[0m\u001b[0;34m.\u001b[0m\u001b[0mSeries\u001b[0m\u001b[0;34m(\u001b[0m\u001b[0mnp\u001b[0m\u001b[0;34m.\u001b[0m\u001b[0mrandom\u001b[0m\u001b[0;34m.\u001b[0m\u001b[0mrandn\u001b[0m\u001b[0;34m(\u001b[0m\u001b[0;36m5\u001b[0m\u001b[0;34m)\u001b[0m\u001b[0;34m,\u001b[0m \u001b[0mindex\u001b[0m\u001b[0;34m=\u001b[0m\u001b[0;34m[\u001b[0m\u001b[0;34m'a'\u001b[0m\u001b[0;34m,\u001b[0m \u001b[0;34m'c'\u001b[0m\u001b[0;34m,\u001b[0m \u001b[0;34m'c'\u001b[0m\u001b[0;34m,\u001b[0m \u001b[0;34m'ba'\u001b[0m\u001b[0;34m,\u001b[0m \u001b[0;34m'e'\u001b[0m\u001b[0;34m]\u001b[0m\u001b[0;34m)\u001b[0m\u001b[0;34m\u001b[0m\u001b[0;34m\u001b[0m\u001b[0m\n\u001b[0;32m----> 2\u001b[0;31m \u001b[0mprint\u001b[0m\u001b[0;34m(\u001b[0m\u001b[0ms1\u001b[0m\u001b[0;34m[\u001b[0m\u001b[0;34m'a'\u001b[0m\u001b[0;34m:\u001b[0m\u001b[0;34m'b'\u001b[0m\u001b[0;34m]\u001b[0m\u001b[0;34m,\u001b[0m \u001b[0mend\u001b[0m \u001b[0;34m=\u001b[0m \u001b[0mend_string\u001b[0m\u001b[0;34m)\u001b[0m\u001b[0;34m\u001b[0m\u001b[0;34m\u001b[0m\u001b[0m\n\u001b[0m",
            "\u001b[0;32m~/opt/anaconda3/lib/python3.9/site-packages/pandas/core/series.py\u001b[0m in \u001b[0;36m__getitem__\u001b[0;34m(self, key)\u001b[0m\n\u001b[1;32m    964\u001b[0m             \u001b[0;32mreturn\u001b[0m \u001b[0mself\u001b[0m\u001b[0;34m.\u001b[0m\u001b[0m_get_values\u001b[0m\u001b[0;34m(\u001b[0m\u001b[0mkey\u001b[0m\u001b[0;34m)\u001b[0m\u001b[0;34m\u001b[0m\u001b[0;34m\u001b[0m\u001b[0m\n\u001b[1;32m    965\u001b[0m \u001b[0;34m\u001b[0m\u001b[0m\n\u001b[0;32m--> 966\u001b[0;31m         \u001b[0;32mreturn\u001b[0m \u001b[0mself\u001b[0m\u001b[0;34m.\u001b[0m\u001b[0m_get_with\u001b[0m\u001b[0;34m(\u001b[0m\u001b[0mkey\u001b[0m\u001b[0;34m)\u001b[0m\u001b[0;34m\u001b[0m\u001b[0;34m\u001b[0m\u001b[0m\n\u001b[0m\u001b[1;32m    967\u001b[0m \u001b[0;34m\u001b[0m\u001b[0m\n\u001b[1;32m    968\u001b[0m     \u001b[0;32mdef\u001b[0m \u001b[0m_get_with\u001b[0m\u001b[0;34m(\u001b[0m\u001b[0mself\u001b[0m\u001b[0;34m,\u001b[0m \u001b[0mkey\u001b[0m\u001b[0;34m)\u001b[0m\u001b[0;34m:\u001b[0m\u001b[0;34m\u001b[0m\u001b[0;34m\u001b[0m\u001b[0m\n",
            "\u001b[0;32m~/opt/anaconda3/lib/python3.9/site-packages/pandas/core/series.py\u001b[0m in \u001b[0;36m_get_with\u001b[0;34m(self, key)\u001b[0m\n\u001b[1;32m    971\u001b[0m             \u001b[0;31m# _convert_slice_indexer to determine if this slice is positional\u001b[0m\u001b[0;34m\u001b[0m\u001b[0;34m\u001b[0m\u001b[0m\n\u001b[1;32m    972\u001b[0m             \u001b[0;31m#  or label based, and if the latter, convert to positional\u001b[0m\u001b[0;34m\u001b[0m\u001b[0;34m\u001b[0m\u001b[0m\n\u001b[0;32m--> 973\u001b[0;31m             \u001b[0mslobj\u001b[0m \u001b[0;34m=\u001b[0m \u001b[0mself\u001b[0m\u001b[0;34m.\u001b[0m\u001b[0mindex\u001b[0m\u001b[0;34m.\u001b[0m\u001b[0m_convert_slice_indexer\u001b[0m\u001b[0;34m(\u001b[0m\u001b[0mkey\u001b[0m\u001b[0;34m,\u001b[0m \u001b[0mkind\u001b[0m\u001b[0;34m=\u001b[0m\u001b[0;34m\"getitem\"\u001b[0m\u001b[0;34m)\u001b[0m\u001b[0;34m\u001b[0m\u001b[0;34m\u001b[0m\u001b[0m\n\u001b[0m\u001b[1;32m    974\u001b[0m             \u001b[0;32mreturn\u001b[0m \u001b[0mself\u001b[0m\u001b[0;34m.\u001b[0m\u001b[0m_slice\u001b[0m\u001b[0;34m(\u001b[0m\u001b[0mslobj\u001b[0m\u001b[0;34m)\u001b[0m\u001b[0;34m\u001b[0m\u001b[0;34m\u001b[0m\u001b[0m\n\u001b[1;32m    975\u001b[0m         \u001b[0;32melif\u001b[0m \u001b[0misinstance\u001b[0m\u001b[0;34m(\u001b[0m\u001b[0mkey\u001b[0m\u001b[0;34m,\u001b[0m \u001b[0mABCDataFrame\u001b[0m\u001b[0;34m)\u001b[0m\u001b[0;34m:\u001b[0m\u001b[0;34m\u001b[0m\u001b[0;34m\u001b[0m\u001b[0m\n",
            "\u001b[0;32m~/opt/anaconda3/lib/python3.9/site-packages/pandas/core/indexes/base.py\u001b[0m in \u001b[0;36m_convert_slice_indexer\u001b[0;34m(self, key, kind)\u001b[0m\n\u001b[1;32m   3751\u001b[0m             \u001b[0mindexer\u001b[0m \u001b[0;34m=\u001b[0m \u001b[0mkey\u001b[0m\u001b[0;34m\u001b[0m\u001b[0;34m\u001b[0m\u001b[0m\n\u001b[1;32m   3752\u001b[0m         \u001b[0;32melse\u001b[0m\u001b[0;34m:\u001b[0m\u001b[0;34m\u001b[0m\u001b[0;34m\u001b[0m\u001b[0m\n\u001b[0;32m-> 3753\u001b[0;31m             \u001b[0mindexer\u001b[0m \u001b[0;34m=\u001b[0m \u001b[0mself\u001b[0m\u001b[0;34m.\u001b[0m\u001b[0mslice_indexer\u001b[0m\u001b[0;34m(\u001b[0m\u001b[0mstart\u001b[0m\u001b[0;34m,\u001b[0m \u001b[0mstop\u001b[0m\u001b[0;34m,\u001b[0m \u001b[0mstep\u001b[0m\u001b[0;34m)\u001b[0m\u001b[0;34m\u001b[0m\u001b[0;34m\u001b[0m\u001b[0m\n\u001b[0m\u001b[1;32m   3754\u001b[0m \u001b[0;34m\u001b[0m\u001b[0m\n\u001b[1;32m   3755\u001b[0m         \u001b[0;32mreturn\u001b[0m \u001b[0mindexer\u001b[0m\u001b[0;34m\u001b[0m\u001b[0;34m\u001b[0m\u001b[0m\n",
            "\u001b[0;32m~/opt/anaconda3/lib/python3.9/site-packages/pandas/core/indexes/base.py\u001b[0m in \u001b[0;36mslice_indexer\u001b[0;34m(self, start, end, step, kind)\u001b[0m\n\u001b[1;32m   5683\u001b[0m         \u001b[0mslice\u001b[0m\u001b[0;34m(\u001b[0m\u001b[0;36m1\u001b[0m\u001b[0;34m,\u001b[0m \u001b[0;36m3\u001b[0m\u001b[0;34m,\u001b[0m \u001b[0;32mNone\u001b[0m\u001b[0;34m)\u001b[0m\u001b[0;34m\u001b[0m\u001b[0;34m\u001b[0m\u001b[0m\n\u001b[1;32m   5684\u001b[0m         \"\"\"\n\u001b[0;32m-> 5685\u001b[0;31m         \u001b[0mstart_slice\u001b[0m\u001b[0;34m,\u001b[0m \u001b[0mend_slice\u001b[0m \u001b[0;34m=\u001b[0m \u001b[0mself\u001b[0m\u001b[0;34m.\u001b[0m\u001b[0mslice_locs\u001b[0m\u001b[0;34m(\u001b[0m\u001b[0mstart\u001b[0m\u001b[0;34m,\u001b[0m \u001b[0mend\u001b[0m\u001b[0;34m,\u001b[0m \u001b[0mstep\u001b[0m\u001b[0;34m=\u001b[0m\u001b[0mstep\u001b[0m\u001b[0;34m)\u001b[0m\u001b[0;34m\u001b[0m\u001b[0;34m\u001b[0m\u001b[0m\n\u001b[0m\u001b[1;32m   5686\u001b[0m \u001b[0;34m\u001b[0m\u001b[0m\n\u001b[1;32m   5687\u001b[0m         \u001b[0;31m# return a slice\u001b[0m\u001b[0;34m\u001b[0m\u001b[0;34m\u001b[0m\u001b[0m\n",
            "\u001b[0;32m~/opt/anaconda3/lib/python3.9/site-packages/pandas/core/indexes/base.py\u001b[0m in \u001b[0;36mslice_locs\u001b[0;34m(self, start, end, step, kind)\u001b[0m\n\u001b[1;32m   5891\u001b[0m         \u001b[0mend_slice\u001b[0m \u001b[0;34m=\u001b[0m \u001b[0;32mNone\u001b[0m\u001b[0;34m\u001b[0m\u001b[0;34m\u001b[0m\u001b[0m\n\u001b[1;32m   5892\u001b[0m         \u001b[0;32mif\u001b[0m \u001b[0mend\u001b[0m \u001b[0;32mis\u001b[0m \u001b[0;32mnot\u001b[0m \u001b[0;32mNone\u001b[0m\u001b[0;34m:\u001b[0m\u001b[0;34m\u001b[0m\u001b[0;34m\u001b[0m\u001b[0m\n\u001b[0;32m-> 5893\u001b[0;31m             \u001b[0mend_slice\u001b[0m \u001b[0;34m=\u001b[0m \u001b[0mself\u001b[0m\u001b[0;34m.\u001b[0m\u001b[0mget_slice_bound\u001b[0m\u001b[0;34m(\u001b[0m\u001b[0mend\u001b[0m\u001b[0;34m,\u001b[0m \u001b[0;34m\"right\"\u001b[0m\u001b[0;34m)\u001b[0m\u001b[0;34m\u001b[0m\u001b[0;34m\u001b[0m\u001b[0m\n\u001b[0m\u001b[1;32m   5894\u001b[0m         \u001b[0;32mif\u001b[0m \u001b[0mend_slice\u001b[0m \u001b[0;32mis\u001b[0m \u001b[0;32mNone\u001b[0m\u001b[0;34m:\u001b[0m\u001b[0;34m\u001b[0m\u001b[0;34m\u001b[0m\u001b[0m\n\u001b[1;32m   5895\u001b[0m             \u001b[0mend_slice\u001b[0m \u001b[0;34m=\u001b[0m \u001b[0mlen\u001b[0m\u001b[0;34m(\u001b[0m\u001b[0mself\u001b[0m\u001b[0;34m)\u001b[0m\u001b[0;34m\u001b[0m\u001b[0;34m\u001b[0m\u001b[0m\n",
            "\u001b[0;32m~/opt/anaconda3/lib/python3.9/site-packages/pandas/core/indexes/base.py\u001b[0m in \u001b[0;36mget_slice_bound\u001b[0;34m(self, label, side, kind)\u001b[0m\n\u001b[1;32m   5805\u001b[0m             \u001b[0;32mexcept\u001b[0m \u001b[0mValueError\u001b[0m\u001b[0;34m:\u001b[0m\u001b[0;34m\u001b[0m\u001b[0;34m\u001b[0m\u001b[0m\n\u001b[1;32m   5806\u001b[0m                 \u001b[0;31m# raise the original KeyError\u001b[0m\u001b[0;34m\u001b[0m\u001b[0;34m\u001b[0m\u001b[0m\n\u001b[0;32m-> 5807\u001b[0;31m                 \u001b[0;32mraise\u001b[0m \u001b[0merr\u001b[0m\u001b[0;34m\u001b[0m\u001b[0;34m\u001b[0m\u001b[0m\n\u001b[0m\u001b[1;32m   5808\u001b[0m \u001b[0;34m\u001b[0m\u001b[0m\n\u001b[1;32m   5809\u001b[0m         \u001b[0;32mif\u001b[0m \u001b[0misinstance\u001b[0m\u001b[0;34m(\u001b[0m\u001b[0mslc\u001b[0m\u001b[0;34m,\u001b[0m \u001b[0mnp\u001b[0m\u001b[0;34m.\u001b[0m\u001b[0mndarray\u001b[0m\u001b[0;34m)\u001b[0m\u001b[0;34m:\u001b[0m\u001b[0;34m\u001b[0m\u001b[0;34m\u001b[0m\u001b[0m\n",
            "\u001b[0;32m~/opt/anaconda3/lib/python3.9/site-packages/pandas/core/indexes/base.py\u001b[0m in \u001b[0;36mget_slice_bound\u001b[0;34m(self, label, side, kind)\u001b[0m\n\u001b[1;32m   5799\u001b[0m         \u001b[0;31m# we need to look up the label\u001b[0m\u001b[0;34m\u001b[0m\u001b[0;34m\u001b[0m\u001b[0m\n\u001b[1;32m   5800\u001b[0m         \u001b[0;32mtry\u001b[0m\u001b[0;34m:\u001b[0m\u001b[0;34m\u001b[0m\u001b[0;34m\u001b[0m\u001b[0m\n\u001b[0;32m-> 5801\u001b[0;31m             \u001b[0mslc\u001b[0m \u001b[0;34m=\u001b[0m \u001b[0mself\u001b[0m\u001b[0;34m.\u001b[0m\u001b[0mget_loc\u001b[0m\u001b[0;34m(\u001b[0m\u001b[0mlabel\u001b[0m\u001b[0;34m)\u001b[0m\u001b[0;34m\u001b[0m\u001b[0;34m\u001b[0m\u001b[0m\n\u001b[0m\u001b[1;32m   5802\u001b[0m         \u001b[0;32mexcept\u001b[0m \u001b[0mKeyError\u001b[0m \u001b[0;32mas\u001b[0m \u001b[0merr\u001b[0m\u001b[0;34m:\u001b[0m\u001b[0;34m\u001b[0m\u001b[0;34m\u001b[0m\u001b[0m\n\u001b[1;32m   5803\u001b[0m             \u001b[0;32mtry\u001b[0m\u001b[0;34m:\u001b[0m\u001b[0;34m\u001b[0m\u001b[0;34m\u001b[0m\u001b[0m\n",
            "\u001b[0;32m~/opt/anaconda3/lib/python3.9/site-packages/pandas/core/indexes/base.py\u001b[0m in \u001b[0;36mget_loc\u001b[0;34m(self, key, method, tolerance)\u001b[0m\n\u001b[1;32m   3361\u001b[0m                 \u001b[0;32mreturn\u001b[0m \u001b[0mself\u001b[0m\u001b[0;34m.\u001b[0m\u001b[0m_engine\u001b[0m\u001b[0;34m.\u001b[0m\u001b[0mget_loc\u001b[0m\u001b[0;34m(\u001b[0m\u001b[0mcasted_key\u001b[0m\u001b[0;34m)\u001b[0m\u001b[0;34m\u001b[0m\u001b[0;34m\u001b[0m\u001b[0m\n\u001b[1;32m   3362\u001b[0m             \u001b[0;32mexcept\u001b[0m \u001b[0mKeyError\u001b[0m \u001b[0;32mas\u001b[0m \u001b[0merr\u001b[0m\u001b[0;34m:\u001b[0m\u001b[0;34m\u001b[0m\u001b[0;34m\u001b[0m\u001b[0m\n\u001b[0;32m-> 3363\u001b[0;31m                 \u001b[0;32mraise\u001b[0m \u001b[0mKeyError\u001b[0m\u001b[0;34m(\u001b[0m\u001b[0mkey\u001b[0m\u001b[0;34m)\u001b[0m \u001b[0;32mfrom\u001b[0m \u001b[0merr\u001b[0m\u001b[0;34m\u001b[0m\u001b[0;34m\u001b[0m\u001b[0m\n\u001b[0m\u001b[1;32m   3364\u001b[0m \u001b[0;34m\u001b[0m\u001b[0m\n\u001b[1;32m   3365\u001b[0m         \u001b[0;32mif\u001b[0m \u001b[0mis_scalar\u001b[0m\u001b[0;34m(\u001b[0m\u001b[0mkey\u001b[0m\u001b[0;34m)\u001b[0m \u001b[0;32mand\u001b[0m \u001b[0misna\u001b[0m\u001b[0;34m(\u001b[0m\u001b[0mkey\u001b[0m\u001b[0;34m)\u001b[0m \u001b[0;32mand\u001b[0m \u001b[0;32mnot\u001b[0m \u001b[0mself\u001b[0m\u001b[0;34m.\u001b[0m\u001b[0mhasnans\u001b[0m\u001b[0;34m:\u001b[0m\u001b[0;34m\u001b[0m\u001b[0;34m\u001b[0m\u001b[0m\n",
            "\u001b[0;31mKeyError\u001b[0m: 'b'"
          ]
        }
      ],
      "source": [
        "s1 = pd.Series(np.random.randn(5), index=['a', 'c', 'c', 'ba', 'e'])\n",
        "print(s1['a':'b'], end = end_string)"
      ]
    },
    {
      "cell_type": "code",
      "execution_count": null,
      "metadata": {
        "id": "hZ7ZqUoFKDbM",
        "outputId": "0dc27424-3530-4efd-825e-640ff5235a8d"
      },
      "outputs": [
        {
          "data": {
            "text/plain": [
              "a     False\n",
              "b     False\n",
              "c      True\n",
              "cb    False\n",
              "e     False\n",
              "dtype: bool"
            ]
          },
          "execution_count": 26,
          "metadata": {},
          "output_type": "execute_result"
        }
      ],
      "source": [
        "s1>1"
      ]
    },
    {
      "cell_type": "code",
      "execution_count": null,
      "metadata": {
        "id": "enIrw34zKDbN",
        "outputId": "d96daeb1-8272-4463-da49-a6ea508628c1"
      },
      "outputs": [
        {
          "data": {
            "text/plain": [
              "c    1.07237\n",
              "dtype: float64"
            ]
          },
          "execution_count": 27,
          "metadata": {},
          "output_type": "execute_result"
        }
      ],
      "source": [
        "s1[s1>1]"
      ]
    },
    {
      "cell_type": "code",
      "execution_count": null,
      "metadata": {
        "scrolled": true,
        "id": "cTnDOnZnKDbN",
        "outputId": "ba6e8097-b79e-4cf4-ac9f-64f6cf723903"
      },
      "outputs": [
        {
          "data": {
            "text/plain": [
              "e    0.992568\n",
              "dtype: float64"
            ]
          },
          "execution_count": 28,
          "metadata": {},
          "output_type": "execute_result"
        }
      ],
      "source": [
        "s[s> s.mean()]"
      ]
    },
    {
      "cell_type": "code",
      "execution_count": null,
      "metadata": {
        "id": "lhkx4eIQKDbO",
        "outputId": "e66a449c-7051-4a86-94da-d222a3838d66"
      },
      "outputs": [
        {
          "name": "stdout",
          "output_type": "stream",
          "text": [
            "e    0.992568\n",
            "dtype: float64\n",
            "--------------------------------------------------\n",
            "a    0.664839\n",
            "b    0.771688\n",
            "c    0.856733\n",
            "d    0.735961\n",
            "e    2.698154\n",
            "dtype: float64\n",
            "--------------------------------------------------\n"
          ]
        }
      ],
      "source": [
        "# conditional max - index with booleans\n",
        "print(s[ s >= s.max()], end = end_string)\n",
        "# elementwise function - vectorization\n",
        "print(np.exp(s), end = end_string)"
      ]
    },
    {
      "cell_type": "markdown",
      "metadata": {
        "id": "oMs_nIhsKDbP"
      },
      "source": [
        "Series are also like dictionaries - you can access values using index labels"
      ]
    },
    {
      "cell_type": "code",
      "execution_count": null,
      "metadata": {
        "id": "D9WDiTzrKDbP",
        "outputId": "77b1ae19-872b-4c83-dfff-90adb60c6912"
      },
      "outputs": [
        {
          "name": "stdout",
          "output_type": "stream",
          "text": [
            "a   -0.408210\n",
            "b   -0.259176\n",
            "c   -0.154629\n",
            "d   -0.306578\n",
            "e    0.992568\n",
            "dtype: float64\n",
            "--------------------------------------------------\n",
            "-0.40821006947274113\n",
            "--------------------------------------------------\n"
          ]
        }
      ],
      "source": [
        "print(s, end = end_string)\n",
        "print(s['a'], end = end_string)"
      ]
    },
    {
      "cell_type": "code",
      "execution_count": null,
      "metadata": {
        "id": "XGqrs5UZKDbQ",
        "outputId": "e0fca9af-809e-4c68-802f-14cb60158f0d"
      },
      "outputs": [
        {
          "name": "stdout",
          "output_type": "stream",
          "text": [
            "a    -0.408210\n",
            "b    -0.259176\n",
            "c    -0.154629\n",
            "d    -0.306578\n",
            "e    12.000000\n",
            "dtype: float64\n",
            "--------------------------------------------------\n",
            "False\n",
            "--------------------------------------------------\n",
            "None\n",
            "--------------------------------------------------\n",
            "12.0\n",
            "--------------------------------------------------\n"
          ]
        }
      ],
      "source": [
        "s['e'] = 12 # set element using index label\n",
        "print(s, end = end_string)\n",
        "print('f' in s, end = end_string) # check for index label\n",
        "print(s.get('f', None), end = end_string) # get item with index 'f' - if no such item return None\n",
        "print(s.get('e', None), end = end_string)"
      ]
    },
    {
      "cell_type": "markdown",
      "metadata": {
        "id": "V3nO5GmbKDbQ"
      },
      "source": [
        "### Series Attributes:\n",
        "\n",
        "- Get the index : \n",
        "```python \n",
        "s.index ``` \n",
        "- Get the values :\n",
        "``` python \n",
        "s.values ``` \n",
        "- Find the shape : \n",
        "``` python \n",
        "s.shape ``` \n",
        "\n",
        "### Series Iteration"
      ]
    },
    {
      "cell_type": "code",
      "execution_count": null,
      "metadata": {
        "id": "X76PK-n6KDbQ",
        "outputId": "46d9e21d-d9a8-415c-e464-b3510b82cf84"
      },
      "outputs": [
        {
          "name": "stdout",
          "output_type": "stream",
          "text": [
            "0.0\n",
            "0.0\n",
            "0.0\n",
            "0.0\n",
            "0.0\n"
          ]
        }
      ],
      "source": [
        "a = np.zeros(5)\n",
        "for i in a:\n",
        "    print(i)\n",
        "    "
      ]
    },
    {
      "cell_type": "code",
      "execution_count": null,
      "metadata": {
        "id": "054aRwQHKDbR",
        "outputId": "dfe0cfdc-6018-485e-ee0b-27ed1484a436"
      },
      "outputs": [
        {
          "name": "stdout",
          "output_type": "stream",
          "text": [
            "a\n",
            "b\n",
            "c\n",
            "d\n",
            "e\n"
          ]
        }
      ],
      "source": [
        "for i in s.index:\n",
        "    print(i)"
      ]
    },
    {
      "cell_type": "code",
      "execution_count": null,
      "metadata": {
        "id": "XFyXAKqsKDbR",
        "outputId": "897af6b3-6d8e-4697-dc80-82a1af3fa141"
      },
      "outputs": [
        {
          "name": "stdout",
          "output_type": "stream",
          "text": [
            "a -0.40821006947274113\n",
            "b -0.25917550582129933\n",
            "c -0.1546285575107417\n",
            "d -0.306578306581234\n",
            "e 12.0\n"
          ]
        }
      ],
      "source": [
        "for idx,val in s.iteritems():\n",
        "    print(idx,val)"
      ]
    },
    {
      "cell_type": "markdown",
      "metadata": {
        "id": "vfDnXDisKDbR"
      },
      "source": [
        "Sort by index or by value"
      ]
    },
    {
      "cell_type": "code",
      "execution_count": null,
      "metadata": {
        "id": "0LbXgypUKDbS",
        "outputId": "e8642257-8010-4e13-d629-7b3d871971b7"
      },
      "outputs": [
        {
          "name": "stdout",
          "output_type": "stream",
          "text": [
            "a    -0.408210\n",
            "b    -0.259176\n",
            "c    -0.154629\n",
            "d    -0.306578\n",
            "e    12.000000\n",
            "dtype: float64\n",
            "--------------------------------------------------\n",
            "a    -0.408210\n",
            "d    -0.306578\n",
            "b    -0.259176\n",
            "c    -0.154629\n",
            "e    12.000000\n",
            "dtype: float64\n",
            "--------------------------------------------------\n"
          ]
        }
      ],
      "source": [
        "print(s.sort_index(), end = end_string)\n",
        "print(s.sort_values(), end = end_string)"
      ]
    },
    {
      "cell_type": "code",
      "execution_count": null,
      "metadata": {
        "id": "ug7tn6ByKDbS"
      },
      "outputs": [],
      "source": [
        "s.sort_values?"
      ]
    },
    {
      "cell_type": "markdown",
      "metadata": {
        "id": "qEjIMtPsKDbS"
      },
      "source": [
        "Find counts of unique values"
      ]
    },
    {
      "cell_type": "code",
      "execution_count": null,
      "metadata": {
        "scrolled": true,
        "id": "G1UMWyHfKDbS",
        "outputId": "895945ae-3b5a-435f-82bd-85ea53a2ea81"
      },
      "outputs": [
        {
          "name": "stdout",
          "output_type": "stream",
          "text": [
            "2    4\n",
            "0    3\n",
            "1    3\n",
            "dtype: int64\n"
          ]
        }
      ],
      "source": [
        "s = pd.Series([0,0,0,1,1,1,2,2,2,2])\n",
        "sct = s.value_counts()\n",
        "print(sct)"
      ]
    },
    {
      "cell_type": "markdown",
      "metadata": {
        "id": "7SP93MvPKDbT"
      },
      "source": [
        "You can do just about anything you can do with a numpy array\n",
        "\n",
        "- Series.mean()\n",
        "- Series.median()\n",
        "- Series.mode()\n",
        "- Series.nsmallest(num)\n",
        "- Series.max ..."
      ]
    },
    {
      "cell_type": "code",
      "execution_count": null,
      "metadata": {
        "id": "7m-jFy8lKDbT",
        "outputId": "26024819-8c24-46ad-d922-19bb04525fad"
      },
      "outputs": [
        {
          "name": "stdout",
          "output_type": "stream",
          "text": [
            "0\n",
            "--------------------------------------------------\n",
            "2\n",
            "--------------------------------------------------\n",
            "0    0\n",
            "1    0\n",
            "dtype: int64\n",
            "--------------------------------------------------\n"
          ]
        }
      ],
      "source": [
        "print(s.min(),end = end_string)\n",
        "print(s.max(), end = end_string)\n",
        "print(s.nsmallest(2), end = end_string)"
      ]
    },
    {
      "cell_type": "markdown",
      "metadata": {
        "id": "ENOkycPfKDbT"
      },
      "source": [
        "## Exercise\n",
        "\n",
        "- Consider the series `s` of letters in a sentence.\n",
        "- What is count of each letter in the sentence, output a series which is sorted by the count\n",
        "- Create a list with only the top 5 common letters (not including space)"
      ]
    },
    {
      "cell_type": "code",
      "execution_count": null,
      "metadata": {
        "id": "OpWALbJnKDbT"
      },
      "outputs": [],
      "source": [
        "s.value_counts?"
      ]
    },
    {
      "cell_type": "code",
      "execution_count": null,
      "metadata": {
        "id": "TgEAtS4CKDbU"
      },
      "outputs": [],
      "source": [
        "s=pd.Series(list(\"Series is a one-dimensional labeled array capable of holding any data type (integers, strings, floating point numbers, Python objects, etc.). The axis labels are collectively referred to as the indexeeeeeee.\"))"
      ]
    },
    {
      "cell_type": "code",
      "execution_count": null,
      "metadata": {
        "id": "d8_2Sgi1KDbU",
        "outputId": "02f758b7-303d-4ce5-f7cb-190b28aacd2d"
      },
      "outputs": [
        {
          "data": {
            "text/plain": [
              "Index(['e', 'a', 'i', 'n', 't'], dtype='object')"
            ]
          },
          "execution_count": 62,
          "metadata": {},
          "output_type": "execute_result"
        }
      ],
      "source": [
        "sv = s.value_counts()\n",
        "\n",
        "(sv[sv.index!=' '][:5]).index"
      ]
    },
    {
      "cell_type": "markdown",
      "metadata": {
        "id": "i9rCmmvSKDbU"
      },
      "source": [
        "# DataFrame\n",
        "- DataFrame is a 2-dimensional labeled data structure with columns of potentially different types. You can think of it like a spreadsheet or SQL table, or a dict of Series objects. It is generally the most commonly used pandas object.\n",
        "- You can create a DataFrame from:\n",
        "    - Dict of 1D ndarrays, lists, dicts, or Series\n",
        "    - 2-D numpy array\n",
        "    - A list of dictionaries\n",
        "    - A Series\n",
        "    - Another Dataframe\n",
        "``` python\n",
        "df = pd.DataFrame(data, index = index, columns = columns)\n",
        "```\n",
        "- ```index```/ ``` columns ``` is a list of the row/ column labels. If you pass an index and/ or columns, you are guarenteeing the index and /or column of the df. \n",
        "- If you do not pass anything in, the input will be constructed by \"common sense\" rules\n",
        "\n",
        "[**pandas.DataFrame**](http://pandas.pydata.org/pandas-docs/stable/generated/pandas.DataFrame.html)\n",
        "\n",
        "# DataFrame Creation From dict of series or dicts\n",
        "- The index of the resulting DataFrame will be the union of the indices of the various Series. If there are any nested dicts, these will be first converted to Series. \n",
        "- If no columns are passed, the columns will be the sorted list of dict keys."
      ]
    },
    {
      "cell_type": "code",
      "execution_count": null,
      "metadata": {
        "id": "C6Q0rChrKDbU",
        "outputId": "17e684e9-abb0-4e8e-fa13-83fdc0ce97e0"
      },
      "outputs": [
        {
          "name": "stdout",
          "output_type": "stream",
          "text": [
            "   one  two\n",
            "a  1.0  0.0\n",
            "b  NaN  1.0\n",
            "c  NaN  2.0\n",
            "d  NaN  3.0\n",
            "e  2.0  NaN\n",
            "--------------------------------------------------\n",
            "   one  two\n",
            "a  1.0    0\n",
            "b  2.0    1\n",
            "c  3.0    2\n",
            "d  NaN    3\n",
            "--------------------------------------------------\n"
          ]
        }
      ],
      "source": [
        "# Create a dictionary of series\n",
        "d = {'one': pd.Series([1,2], index  = ['a','e']), \n",
        "     'two': pd.Series(list(range(4)), index = ['a','b', 'c', 'd'])}\n",
        "df = pd.DataFrame(d)\n",
        "print(df, end = end_string)\n",
        "\n",
        "d= {'one': {'a': 1, 'b': 2, 'c':3}, \n",
        "     'two': pd.Series(list(range(4)), index = ['a','b', 'c', 'd'])}\n",
        "# Columns are dictionary keys, indices and values obtained from series\n",
        "df = pd.DataFrame(d)\n",
        "# Notice how it fills the column one with NaN for d\n",
        "print(df, end = end_string)"
      ]
    },
    {
      "cell_type": "code",
      "execution_count": null,
      "metadata": {
        "id": "UFP0xINsKDbV",
        "outputId": "018e9d0a-020a-4994-c8be-760463cc8e43"
      },
      "outputs": [
        {
          "name": "stdout",
          "output_type": "stream",
          "text": [
            "   one  two\n",
            "d  NaN    3\n",
            "b  2.0    1\n",
            "a  1.0    0\n",
            "--------------------------------------------------\n",
            "   two three\n",
            "d    3   NaN\n",
            "b    1   NaN\n",
            "a    0   NaN\n",
            "--------------------------------------------------\n"
          ]
        }
      ],
      "source": [
        "d = {'one': pd.Series([1,2,3], index  = ['a', 'b', 'c']), \n",
        "     'two': pd.Series(list(range(4)), index = ['a','b', 'c', 'd'])}\n",
        "\n",
        "print(pd.DataFrame(d, index = ['d', 'b', 'a']), end = end_string)\n",
        "print(pd.DataFrame(d, index = ['d', 'b', 'a'], columns = ['two', 'three']),\n",
        "      end = end_string)"
      ]
    },
    {
      "cell_type": "markdown",
      "metadata": {
        "id": "d-V0Cgr8KDbV"
      },
      "source": [
        "# From dict of ndarray / lists\n",
        "- The ndarrays must all be the same length. \n",
        "- If an index is passed, it must clearly also be the same length as the arrays. If no index is passed, the result will be range(n), where n is the array length."
      ]
    },
    {
      "cell_type": "code",
      "execution_count": null,
      "metadata": {
        "id": "63TBWytnKDbW",
        "outputId": "7c4c4965-3676-49d9-c278-45802123f5e2"
      },
      "outputs": [
        {
          "data": {
            "text/html": [
              "<div>\n",
              "<style scoped>\n",
              "    .dataframe tbody tr th:only-of-type {\n",
              "        vertical-align: middle;\n",
              "    }\n",
              "\n",
              "    .dataframe tbody tr th {\n",
              "        vertical-align: top;\n",
              "    }\n",
              "\n",
              "    .dataframe thead th {\n",
              "        text-align: right;\n",
              "    }\n",
              "</style>\n",
              "<table border=\"1\" class=\"dataframe\">\n",
              "  <thead>\n",
              "    <tr style=\"text-align: right;\">\n",
              "      <th></th>\n",
              "      <th>one</th>\n",
              "      <th>two</th>\n",
              "    </tr>\n",
              "  </thead>\n",
              "  <tbody>\n",
              "    <tr>\n",
              "      <th>0</th>\n",
              "      <td>1.0</td>\n",
              "      <td>4.0</td>\n",
              "    </tr>\n",
              "    <tr>\n",
              "      <th>1</th>\n",
              "      <td>2.0</td>\n",
              "      <td>3.0</td>\n",
              "    </tr>\n",
              "    <tr>\n",
              "      <th>2</th>\n",
              "      <td>3.0</td>\n",
              "      <td>2.0</td>\n",
              "    </tr>\n",
              "    <tr>\n",
              "      <th>3</th>\n",
              "      <td>4.0</td>\n",
              "      <td>1.0</td>\n",
              "    </tr>\n",
              "  </tbody>\n",
              "</table>\n",
              "</div>"
            ],
            "text/plain": [
              "   one  two\n",
              "0  1.0  4.0\n",
              "1  2.0  3.0\n",
              "2  3.0  2.0\n",
              "3  4.0  1.0"
            ]
          },
          "execution_count": 71,
          "metadata": {},
          "output_type": "execute_result"
        }
      ],
      "source": [
        "d = {'one' : [1., 2., 3., 4], 'two' : [4., 3., 2., 1.]}\n",
        "pd.DataFrame(d)"
      ]
    },
    {
      "cell_type": "markdown",
      "metadata": {
        "id": "aM39p2v9KDbW"
      },
      "source": [
        "# From a list of dicts"
      ]
    },
    {
      "cell_type": "code",
      "execution_count": null,
      "metadata": {
        "scrolled": true,
        "id": "FqdEbanmKDbX",
        "outputId": "324a8db2-7113-405b-b715-6285403738d0"
      },
      "outputs": [
        {
          "data": {
            "text/plain": [
              "[{'Column0': 42, 'Column1': 40, 'Column2': 12, 'Column3': 91, 'Column4': 54},\n",
              " {'Column0': 34, 'Column1': 38, 'Column2': 17, 'Column3': 16, 'Column4': 36},\n",
              " {'Column0': 34, 'Column1': 62, 'Column2': 11, 'Column3': 49, 'Column4': 93},\n",
              " {'Column0': 19, 'Column1': 81, 'Column2': 59, 'Column3': 71, 'Column4': 54},\n",
              " {'Column0': 39, 'Column1': 44, 'Column2': 17, 'Column3': 27, 'Column4': 59}]"
            ]
          },
          "execution_count": 73,
          "metadata": {},
          "output_type": "execute_result"
        }
      ],
      "source": [
        "data = []\n",
        "for i in range(100):\n",
        "    data += [ {'Column' + str(j):np.random.randint(100) for j in range(5)} ]\n",
        "    # dictionary comprehension!\n",
        "    \n",
        "data[:5]"
      ]
    },
    {
      "cell_type": "code",
      "execution_count": null,
      "metadata": {
        "id": "m4EI4f4qKDbX",
        "outputId": "34873d46-0e59-47e6-e4ae-754421968fa4"
      },
      "outputs": [
        {
          "name": "stdout",
          "output_type": "stream",
          "text": [
            "   Column0  Column1  Column2  Column3  Column4\n",
            "0       42       40       12       91       54\n",
            "1       34       38       17       16       36\n",
            "2       34       62       11       49       93\n",
            "3       19       81       59       71       54\n",
            "4       39       44       17       27       59\n",
            "--------------------------------------------------\n"
          ]
        }
      ],
      "source": [
        "# Creation from a list of dicts\n",
        "df = pd.DataFrame(data)\n",
        "print(df.head(), end = end_string)"
      ]
    },
    {
      "cell_type": "code",
      "execution_count": null,
      "metadata": {
        "id": "KWus1-v6KDbY",
        "outputId": "22ab5b42-d975-4c8c-bec6-ce3326929114"
      },
      "outputs": [
        {
          "data": {
            "text/html": [
              "<div>\n",
              "<style scoped>\n",
              "    .dataframe tbody tr th:only-of-type {\n",
              "        vertical-align: middle;\n",
              "    }\n",
              "\n",
              "    .dataframe tbody tr th {\n",
              "        vertical-align: top;\n",
              "    }\n",
              "\n",
              "    .dataframe thead th {\n",
              "        text-align: right;\n",
              "    }\n",
              "</style>\n",
              "<table border=\"1\" class=\"dataframe\">\n",
              "  <thead>\n",
              "    <tr style=\"text-align: right;\">\n",
              "      <th></th>\n",
              "      <th>Column0</th>\n",
              "      <th>Column1</th>\n",
              "    </tr>\n",
              "  </thead>\n",
              "  <tbody>\n",
              "    <tr>\n",
              "      <th>0</th>\n",
              "      <td>42</td>\n",
              "      <td>40</td>\n",
              "    </tr>\n",
              "    <tr>\n",
              "      <th>1</th>\n",
              "      <td>34</td>\n",
              "      <td>38</td>\n",
              "    </tr>\n",
              "    <tr>\n",
              "      <th>2</th>\n",
              "      <td>34</td>\n",
              "      <td>62</td>\n",
              "    </tr>\n",
              "    <tr>\n",
              "      <th>3</th>\n",
              "      <td>19</td>\n",
              "      <td>81</td>\n",
              "    </tr>\n",
              "    <tr>\n",
              "      <th>4</th>\n",
              "      <td>39</td>\n",
              "      <td>44</td>\n",
              "    </tr>\n",
              "  </tbody>\n",
              "</table>\n",
              "</div>"
            ],
            "text/plain": [
              "   Column0  Column1\n",
              "0       42       40\n",
              "1       34       38\n",
              "2       34       62\n",
              "3       19       81\n",
              "4       39       44"
            ]
          },
          "execution_count": 75,
          "metadata": {},
          "output_type": "execute_result"
        }
      ],
      "source": [
        "# Only certain columns\n",
        "df = pd.DataFrame(data, columns = ['Column0', 'Column1'])\n",
        "df.head()"
      ]
    },
    {
      "cell_type": "markdown",
      "metadata": {
        "id": "HPrKEBtAKDbY"
      },
      "source": [
        "## Attributes\n",
        "\n",
        "- ``` df.index ``` : the row index of df\n",
        "- ``` df.columns ``` : the columns of df\n",
        "- ``` df.shape ``` : the shape of the df\n",
        "- ``` df.values ``` : numpy array of values"
      ]
    },
    {
      "cell_type": "code",
      "execution_count": null,
      "metadata": {
        "scrolled": true,
        "id": "nbmXsxUaKDbY",
        "outputId": "7c2e4a84-1186-47c9-8f97-d8f136900eaf"
      },
      "outputs": [
        {
          "name": "stdout",
          "output_type": "stream",
          "text": [
            "   one  two  three   flag\n",
            "a  1.0    0    0.0  False\n",
            "b  2.0    1    2.0  False\n",
            "c  3.0    2    6.0   True\n",
            "d  NaN    3    NaN  False\n"
          ]
        }
      ],
      "source": [
        "# Adding and accessing columns \n",
        "d = {'one': pd.Series([1,2,3], index  = ['a', 'b', 'c']), \n",
        "     'two': pd.Series(range(4), index = ['a','b', 'c', 'd'])}\n",
        "df = pd.DataFrame(d)\n",
        "# multiply \n",
        "df['three'] =  df['one']*df['two']\n",
        "# Create a boolean flag\n",
        "df['flag'] = df['one'] > 2\n",
        "print(df.head())"
      ]
    },
    {
      "cell_type": "code",
      "execution_count": null,
      "metadata": {
        "id": "4wHEkf9GKDbZ",
        "outputId": "a580f4d1-dff0-448d-e96e-6e7561bcc170"
      },
      "outputs": [
        {
          "name": "stdout",
          "output_type": "stream",
          "text": [
            "   one  bar  two  three   flag\n",
            "a  1.0  1.0    0    0.0  False\n",
            "b  2.0  2.0    1    2.0  False\n",
            "c  3.0  NaN    2    6.0   True\n",
            "d  NaN  NaN    3    NaN  False\n"
          ]
        }
      ],
      "source": [
        "# inserting column in specified location, with values\n",
        "df.insert(1, 'bar', df['one'][:2])\n",
        "print(df.head())"
      ]
    },
    {
      "cell_type": "code",
      "execution_count": null,
      "metadata": {
        "id": "lu49hK_PKDbZ",
        "outputId": "2c5d2073-b5bd-48f2-fdbc-8d380ab90ec7"
      },
      "outputs": [
        {
          "name": "stdout",
          "output_type": "stream",
          "text": [
            "   one  bar  two   flag\n",
            "a  1.0  1.0    0  False\n",
            "b  2.0  2.0    1  False\n",
            "c  3.0  NaN    2   True\n",
            "d  NaN  NaN    3  False\n",
            "--------------------------------------------------\n",
            "   one  bar  two   flag  foo\n",
            "a  1.0  1.0    0  False  bar\n",
            "b  2.0  2.0    1  False  bar\n",
            "c  3.0  NaN    2   True  bar\n",
            "d  NaN  NaN    3  False  bar\n",
            "--------------------------------------------------\n"
          ]
        }
      ],
      "source": [
        "# Deleting Columns  \n",
        "three = df.pop('three')\n",
        "print(df.head(), end = end_string)\n",
        "# Propagation of values\n",
        "df['foo'] = 'bar'\n",
        "print(df, end = end_string)"
      ]
    },
    {
      "cell_type": "code",
      "execution_count": null,
      "metadata": {
        "id": "Fc4RrlwrKDba",
        "outputId": "8f1692bf-40bb-473e-e3d6-26ffe8c3a526"
      },
      "outputs": [
        {
          "data": {
            "text/plain": [
              "a    0.0\n",
              "b    2.0\n",
              "c    6.0\n",
              "d    NaN\n",
              "Name: three, dtype: float64"
            ]
          },
          "execution_count": 89,
          "metadata": {},
          "output_type": "execute_result"
        }
      ],
      "source": [
        "three"
      ]
    },
    {
      "cell_type": "code",
      "execution_count": null,
      "metadata": {
        "id": "C2mxC6XSKDba",
        "outputId": "230a4571-6ea4-4263-9b80-2b6e0456d55c"
      },
      "outputs": [
        {
          "data": {
            "text/plain": [
              "pandas.core.series.Series"
            ]
          },
          "execution_count": 90,
          "metadata": {},
          "output_type": "execute_result"
        }
      ],
      "source": [
        "type(df['one'])"
      ]
    },
    {
      "cell_type": "markdown",
      "metadata": {
        "id": "NEMpIBvqKDbb"
      },
      "source": [
        "## Indexing and Selection \n",
        "\n",
        "- 4 methods ``` [], ix, iloc, loc ```\n",
        "\n",
        "| Operation  | Syntax       | Result | \n",
        "|----|----------------------| ---------------------------|\n",
        "| Select Column | df[col]   |    Series                      |\n",
        "| Select Row by Label | df.loc[label] | Series  |\n",
        "| Select Row by Integer Location | df.iloc[idx] |      Series                    |\n",
        "| Slice rows | df[5:10]        |                        DataFrame  | \n",
        "| Select rows by boolean | df[mask]   | DataFrame        |\n",
        "\n",
        "- Note all the operations below are valid on series as well restricted to one dimension"
      ]
    },
    {
      "cell_type": "markdown",
      "metadata": {
        "id": "hznUWCffKDbb"
      },
      "source": [
        "## Simplest form Of Indexing: []\n",
        "- Series: selecting a label: s[label] \n",
        "- DataFrame: selection single or multiple columns: \n",
        "``` python \n",
        "df['col'] or df[['col1', 'col2']] ``` \n",
        "- DataFrame: slicing the rows:\n",
        "``` python\n",
        "df['rowlabel1': 'rowlabel2'] ``` \n",
        "or \n",
        "``` python \n",
        "df[boolean_mask] ``` "
      ]
    },
    {
      "cell_type": "code",
      "execution_count": null,
      "metadata": {
        "id": "0zK5935TKDbb",
        "outputId": "c47ca1c7-f997-4500-e55a-c2d5130a03b7"
      },
      "outputs": [
        {
          "name": "stdout",
          "output_type": "stream",
          "text": [
            "                   A         B         C         D\n",
            "2000-01-01 -0.533105  0.072138  0.130678 -0.913274\n",
            "2000-01-02 -0.327215 -0.447392  0.394855  0.119052\n",
            "...              ...       ...       ...       ...\n",
            "2000-01-07 -1.309518 -0.290984 -0.071396  0.565290\n",
            "2000-01-08  2.333222 -1.722406 -0.321653  0.865227\n",
            "\n",
            "[8 rows x 4 columns]\n"
          ]
        }
      ],
      "source": [
        "# Lets create a data frame\n",
        "pd.options.display.max_rows = 4\n",
        "dates = pd.date_range('1/1/2000', periods=8)\n",
        "df = pd.DataFrame(np.random.randn(8, 4), index=dates, columns=['A', 'B', 'C','D'])\n",
        "print(df)"
      ]
    },
    {
      "cell_type": "code",
      "execution_count": null,
      "metadata": {
        "id": "vXBcd2TlKDbc"
      },
      "outputs": [],
      "source": [
        "pd.date_range?"
      ]
    },
    {
      "cell_type": "code",
      "execution_count": null,
      "metadata": {
        "id": "IKgK6tqBKDbc",
        "outputId": "ee423e50-345d-436d-90a5-db9b279cdef8"
      },
      "outputs": [
        {
          "data": {
            "text/plain": [
              "2000-01-01   -0.533105\n",
              "2000-01-02   -0.327215\n",
              "                ...   \n",
              "2000-01-07   -1.309518\n",
              "2000-01-08    2.333222\n",
              "Freq: D, Name: A, Length: 8, dtype: float64"
            ]
          },
          "execution_count": 94,
          "metadata": {},
          "output_type": "execute_result"
        }
      ],
      "source": [
        "# column  'A'\n",
        "df['A']"
      ]
    },
    {
      "cell_type": "code",
      "execution_count": null,
      "metadata": {
        "id": "VjDzUjB3KDbc",
        "outputId": "270f125f-38c4-46be-a6e1-31dd58ae2579"
      },
      "outputs": [
        {
          "data": {
            "text/html": [
              "<div>\n",
              "<style scoped>\n",
              "    .dataframe tbody tr th:only-of-type {\n",
              "        vertical-align: middle;\n",
              "    }\n",
              "\n",
              "    .dataframe tbody tr th {\n",
              "        vertical-align: top;\n",
              "    }\n",
              "\n",
              "    .dataframe thead th {\n",
              "        text-align: right;\n",
              "    }\n",
              "</style>\n",
              "<table border=\"1\" class=\"dataframe\">\n",
              "  <thead>\n",
              "    <tr style=\"text-align: right;\">\n",
              "      <th></th>\n",
              "      <th>A</th>\n",
              "      <th>B</th>\n",
              "    </tr>\n",
              "  </thead>\n",
              "  <tbody>\n",
              "    <tr>\n",
              "      <th>2000-01-01</th>\n",
              "      <td>-0.533105</td>\n",
              "      <td>0.072138</td>\n",
              "    </tr>\n",
              "    <tr>\n",
              "      <th>2000-01-02</th>\n",
              "      <td>-0.327215</td>\n",
              "      <td>-0.447392</td>\n",
              "    </tr>\n",
              "    <tr>\n",
              "      <th>...</th>\n",
              "      <td>...</td>\n",
              "      <td>...</td>\n",
              "    </tr>\n",
              "    <tr>\n",
              "      <th>2000-01-07</th>\n",
              "      <td>-1.309518</td>\n",
              "      <td>-0.290984</td>\n",
              "    </tr>\n",
              "    <tr>\n",
              "      <th>2000-01-08</th>\n",
              "      <td>2.333222</td>\n",
              "      <td>-1.722406</td>\n",
              "    </tr>\n",
              "  </tbody>\n",
              "</table>\n",
              "<p>8 rows × 2 columns</p>\n",
              "</div>"
            ],
            "text/plain": [
              "                   A         B\n",
              "2000-01-01 -0.533105  0.072138\n",
              "2000-01-02 -0.327215 -0.447392\n",
              "...              ...       ...\n",
              "2000-01-07 -1.309518 -0.290984\n",
              "2000-01-08  2.333222 -1.722406\n",
              "\n",
              "[8 rows x 2 columns]"
            ]
          },
          "execution_count": 95,
          "metadata": {},
          "output_type": "execute_result"
        }
      ],
      "source": [
        "# multiple column \n",
        "df[['A', 'B']]"
      ]
    },
    {
      "cell_type": "code",
      "execution_count": null,
      "metadata": {
        "id": "EFtc5-nwKDbd",
        "outputId": "fa3f0091-4068-47b5-8089-cc5d88cda0d9"
      },
      "outputs": [
        {
          "data": {
            "text/html": [
              "<div>\n",
              "<style scoped>\n",
              "    .dataframe tbody tr th:only-of-type {\n",
              "        vertical-align: middle;\n",
              "    }\n",
              "\n",
              "    .dataframe tbody tr th {\n",
              "        vertical-align: top;\n",
              "    }\n",
              "\n",
              "    .dataframe thead th {\n",
              "        text-align: right;\n",
              "    }\n",
              "</style>\n",
              "<table border=\"1\" class=\"dataframe\">\n",
              "  <thead>\n",
              "    <tr style=\"text-align: right;\">\n",
              "      <th></th>\n",
              "      <th>A</th>\n",
              "      <th>B</th>\n",
              "      <th>C</th>\n",
              "      <th>D</th>\n",
              "    </tr>\n",
              "  </thead>\n",
              "  <tbody>\n",
              "    <tr>\n",
              "      <th>2000-01-01</th>\n",
              "      <td>-0.533105</td>\n",
              "      <td>0.072138</td>\n",
              "      <td>0.130678</td>\n",
              "      <td>-0.913274</td>\n",
              "    </tr>\n",
              "    <tr>\n",
              "      <th>2000-01-02</th>\n",
              "      <td>-0.327215</td>\n",
              "      <td>-0.447392</td>\n",
              "      <td>0.394855</td>\n",
              "      <td>0.119052</td>\n",
              "    </tr>\n",
              "    <tr>\n",
              "      <th>2000-01-03</th>\n",
              "      <td>-1.685407</td>\n",
              "      <td>-0.181937</td>\n",
              "      <td>-0.072066</td>\n",
              "      <td>-0.367811</td>\n",
              "    </tr>\n",
              "    <tr>\n",
              "      <th>2000-01-04</th>\n",
              "      <td>1.130233</td>\n",
              "      <td>-0.450928</td>\n",
              "      <td>-2.276072</td>\n",
              "      <td>-0.200186</td>\n",
              "    </tr>\n",
              "  </tbody>\n",
              "</table>\n",
              "</div>"
            ],
            "text/plain": [
              "                   A         B         C         D\n",
              "2000-01-01 -0.533105  0.072138  0.130678 -0.913274\n",
              "2000-01-02 -0.327215 -0.447392  0.394855  0.119052\n",
              "2000-01-03 -1.685407 -0.181937 -0.072066 -0.367811\n",
              "2000-01-04  1.130233 -0.450928 -2.276072 -0.200186"
            ]
          },
          "execution_count": 96,
          "metadata": {},
          "output_type": "execute_result"
        }
      ],
      "source": [
        "# slice by rows\n",
        "df['2000-01-01': '2000-01-04']"
      ]
    },
    {
      "cell_type": "code",
      "execution_count": null,
      "metadata": {
        "id": "oaCy6rQoKDbd",
        "outputId": "3564be18-e7bd-4641-b590-5daef4a46c4c"
      },
      "outputs": [
        {
          "data": {
            "text/html": [
              "<div>\n",
              "<style scoped>\n",
              "    .dataframe tbody tr th:only-of-type {\n",
              "        vertical-align: middle;\n",
              "    }\n",
              "\n",
              "    .dataframe tbody tr th {\n",
              "        vertical-align: top;\n",
              "    }\n",
              "\n",
              "    .dataframe thead th {\n",
              "        text-align: right;\n",
              "    }\n",
              "</style>\n",
              "<table border=\"1\" class=\"dataframe\">\n",
              "  <thead>\n",
              "    <tr style=\"text-align: right;\">\n",
              "      <th></th>\n",
              "      <th>A</th>\n",
              "      <th>B</th>\n",
              "    </tr>\n",
              "  </thead>\n",
              "  <tbody>\n",
              "    <tr>\n",
              "      <th>2000-01-01</th>\n",
              "      <td>-0.533105</td>\n",
              "      <td>0.072138</td>\n",
              "    </tr>\n",
              "    <tr>\n",
              "      <th>2000-01-02</th>\n",
              "      <td>-0.327215</td>\n",
              "      <td>-0.447392</td>\n",
              "    </tr>\n",
              "    <tr>\n",
              "      <th>2000-01-03</th>\n",
              "      <td>-1.685407</td>\n",
              "      <td>-0.181937</td>\n",
              "    </tr>\n",
              "    <tr>\n",
              "      <th>2000-01-04</th>\n",
              "      <td>1.130233</td>\n",
              "      <td>-0.450928</td>\n",
              "    </tr>\n",
              "  </tbody>\n",
              "</table>\n",
              "</div>"
            ],
            "text/plain": [
              "                   A         B\n",
              "2000-01-01 -0.533105  0.072138\n",
              "2000-01-02 -0.327215 -0.447392\n",
              "2000-01-03 -1.685407 -0.181937\n",
              "2000-01-04  1.130233 -0.450928"
            ]
          },
          "execution_count": 99,
          "metadata": {},
          "output_type": "execute_result"
        }
      ],
      "source": [
        "df.loc['2000-01-01': '2000-01-04',\"A\":\"B\"]"
      ]
    },
    {
      "cell_type": "code",
      "execution_count": null,
      "metadata": {
        "id": "cGYc6IfMKDbd",
        "outputId": "70e821c8-08ce-4739-81ab-1ba35345ced7"
      },
      "outputs": [
        {
          "data": {
            "text/plain": [
              "2000-01-01    False\n",
              "2000-01-02     True\n",
              "              ...  \n",
              "2000-01-07    False\n",
              "2000-01-08     True\n",
              "Freq: D, Length: 8, dtype: bool"
            ]
          },
          "execution_count": 100,
          "metadata": {},
          "output_type": "execute_result"
        }
      ],
      "source": [
        "df['A'] > df['B']"
      ]
    },
    {
      "cell_type": "code",
      "execution_count": null,
      "metadata": {
        "id": "FwoxPIutKDbd",
        "outputId": "1bdd5d3f-143d-4919-b026-89fd1b1cafb4"
      },
      "outputs": [
        {
          "data": {
            "text/html": [
              "<div>\n",
              "<style scoped>\n",
              "    .dataframe tbody tr th:only-of-type {\n",
              "        vertical-align: middle;\n",
              "    }\n",
              "\n",
              "    .dataframe tbody tr th {\n",
              "        vertical-align: top;\n",
              "    }\n",
              "\n",
              "    .dataframe thead th {\n",
              "        text-align: right;\n",
              "    }\n",
              "</style>\n",
              "<table border=\"1\" class=\"dataframe\">\n",
              "  <thead>\n",
              "    <tr style=\"text-align: right;\">\n",
              "      <th></th>\n",
              "      <th>A</th>\n",
              "      <th>B</th>\n",
              "      <th>C</th>\n",
              "      <th>D</th>\n",
              "    </tr>\n",
              "  </thead>\n",
              "  <tbody>\n",
              "    <tr>\n",
              "      <th>2000-01-02</th>\n",
              "      <td>-0.327215</td>\n",
              "      <td>-0.447392</td>\n",
              "      <td>0.394855</td>\n",
              "      <td>0.119052</td>\n",
              "    </tr>\n",
              "    <tr>\n",
              "      <th>2000-01-04</th>\n",
              "      <td>1.130233</td>\n",
              "      <td>-0.450928</td>\n",
              "      <td>-2.276072</td>\n",
              "      <td>-0.200186</td>\n",
              "    </tr>\n",
              "    <tr>\n",
              "      <th>2000-01-08</th>\n",
              "      <td>2.333222</td>\n",
              "      <td>-1.722406</td>\n",
              "      <td>-0.321653</td>\n",
              "      <td>0.865227</td>\n",
              "    </tr>\n",
              "  </tbody>\n",
              "</table>\n",
              "</div>"
            ],
            "text/plain": [
              "                   A         B         C         D\n",
              "2000-01-02 -0.327215 -0.447392  0.394855  0.119052\n",
              "2000-01-04  1.130233 -0.450928 -2.276072 -0.200186\n",
              "2000-01-08  2.333222 -1.722406 -0.321653  0.865227"
            ]
          },
          "execution_count": 101,
          "metadata": {},
          "output_type": "execute_result"
        }
      ],
      "source": [
        "# boolean mask \n",
        "df[df['A'] > df['B']]"
      ]
    },
    {
      "cell_type": "code",
      "execution_count": null,
      "metadata": {
        "id": "FfSp5c9BKDbe",
        "outputId": "500c8164-7a19-4ecf-a313-dcae81b5f147"
      },
      "outputs": [
        {
          "data": {
            "text/html": [
              "<div>\n",
              "<style scoped>\n",
              "    .dataframe tbody tr th:only-of-type {\n",
              "        vertical-align: middle;\n",
              "    }\n",
              "\n",
              "    .dataframe tbody tr th {\n",
              "        vertical-align: top;\n",
              "    }\n",
              "\n",
              "    .dataframe thead th {\n",
              "        text-align: right;\n",
              "    }\n",
              "</style>\n",
              "<table border=\"1\" class=\"dataframe\">\n",
              "  <thead>\n",
              "    <tr style=\"text-align: right;\">\n",
              "      <th></th>\n",
              "      <th>A</th>\n",
              "      <th>B</th>\n",
              "      <th>C</th>\n",
              "      <th>D</th>\n",
              "    </tr>\n",
              "  </thead>\n",
              "  <tbody>\n",
              "    <tr>\n",
              "      <th>2000-01-01</th>\n",
              "      <td>0.072138</td>\n",
              "      <td>0.072138</td>\n",
              "      <td>0.130678</td>\n",
              "      <td>-0.913274</td>\n",
              "    </tr>\n",
              "    <tr>\n",
              "      <th>2000-01-02</th>\n",
              "      <td>-0.447392</td>\n",
              "      <td>-0.447392</td>\n",
              "      <td>0.394855</td>\n",
              "      <td>0.119052</td>\n",
              "    </tr>\n",
              "    <tr>\n",
              "      <th>...</th>\n",
              "      <td>...</td>\n",
              "      <td>...</td>\n",
              "      <td>...</td>\n",
              "      <td>...</td>\n",
              "    </tr>\n",
              "    <tr>\n",
              "      <th>2000-01-04</th>\n",
              "      <td>-0.450928</td>\n",
              "      <td>-0.450928</td>\n",
              "      <td>-2.276072</td>\n",
              "      <td>-0.200186</td>\n",
              "    </tr>\n",
              "    <tr>\n",
              "      <th>2000-01-05</th>\n",
              "      <td>0.500342</td>\n",
              "      <td>0.500342</td>\n",
              "      <td>1.382661</td>\n",
              "      <td>-1.163850</td>\n",
              "    </tr>\n",
              "  </tbody>\n",
              "</table>\n",
              "<p>5 rows × 4 columns</p>\n",
              "</div>"
            ],
            "text/plain": [
              "                   A         B         C         D\n",
              "2000-01-01  0.072138  0.072138  0.130678 -0.913274\n",
              "2000-01-02 -0.447392 -0.447392  0.394855  0.119052\n",
              "...              ...       ...       ...       ...\n",
              "2000-01-04 -0.450928 -0.450928 -2.276072 -0.200186\n",
              "2000-01-05  0.500342  0.500342  1.382661 -1.163850\n",
              "\n",
              "[5 rows x 4 columns]"
            ]
          },
          "execution_count": 102,
          "metadata": {},
          "output_type": "execute_result"
        }
      ],
      "source": [
        "# Assign via []\n",
        "df['A'] = df['B'].values\n",
        "df.head()"
      ]
    },
    {
      "cell_type": "code",
      "execution_count": null,
      "metadata": {
        "id": "xsHIxvryKDbe",
        "outputId": "d50c8611-5d88-4e5f-808c-2dcdc80b738c"
      },
      "outputs": [
        {
          "data": {
            "text/plain": [
              "2000-01-01    0.072138\n",
              "2000-01-02   -0.447392\n",
              "                ...   \n",
              "2000-01-07   -0.290984\n",
              "2000-01-08   -1.722406\n",
              "Freq: D, Name: B, Length: 8, dtype: float64"
            ]
          },
          "execution_count": 103,
          "metadata": {},
          "output_type": "execute_result"
        }
      ],
      "source": [
        "### You can also access a column by df.colname\n",
        "df.B # df['B']"
      ]
    },
    {
      "cell_type": "markdown",
      "metadata": {
        "id": "s36dBpHKKDbe"
      },
      "source": [
        "## Selecting by label .loc\n",
        "\n",
        "- is primarily label based, but may also be used with a boolean array.\n",
        "- .loc will raise KeyError when the items are not found\n",
        "- Allowed inputs:\n",
        "    1. A single label \n",
        "    2. A list of labels\n",
        "    3. A boolean array"
      ]
    },
    {
      "cell_type": "code",
      "execution_count": null,
      "metadata": {
        "id": "RYwMhWuCKDbe",
        "outputId": "58dec604-2d3d-47a9-ad69-79f1c20e66fb"
      },
      "outputs": [
        {
          "data": {
            "text/plain": [
              "A    0.072138\n",
              "B    0.072138\n",
              "C    0.130678\n",
              "D   -0.913274\n",
              "Name: 2000-01-01 00:00:00, dtype: float64"
            ]
          },
          "execution_count": 106,
          "metadata": {},
          "output_type": "execute_result"
        }
      ],
      "source": [
        "## Selection by label .loc\n",
        "df.loc['2000-01-01']"
      ]
    },
    {
      "cell_type": "code",
      "execution_count": null,
      "metadata": {
        "id": "bcBJoUh7KDbf",
        "outputId": "9e3b9eb8-2e96-4aba-8736-193d6d703e4b"
      },
      "outputs": [
        {
          "data": {
            "text/html": [
              "<div>\n",
              "<style scoped>\n",
              "    .dataframe tbody tr th:only-of-type {\n",
              "        vertical-align: middle;\n",
              "    }\n",
              "\n",
              "    .dataframe tbody tr th {\n",
              "        vertical-align: top;\n",
              "    }\n",
              "\n",
              "    .dataframe thead th {\n",
              "        text-align: right;\n",
              "    }\n",
              "</style>\n",
              "<table border=\"1\" class=\"dataframe\">\n",
              "  <thead>\n",
              "    <tr style=\"text-align: right;\">\n",
              "      <th></th>\n",
              "      <th>A</th>\n",
              "      <th>B</th>\n",
              "      <th>C</th>\n",
              "    </tr>\n",
              "  </thead>\n",
              "  <tbody>\n",
              "    <tr>\n",
              "      <th>2000-01-01</th>\n",
              "      <td>0.072138</td>\n",
              "      <td>0.072138</td>\n",
              "      <td>0.130678</td>\n",
              "    </tr>\n",
              "    <tr>\n",
              "      <th>2000-01-02</th>\n",
              "      <td>-0.447392</td>\n",
              "      <td>-0.447392</td>\n",
              "      <td>0.394855</td>\n",
              "    </tr>\n",
              "    <tr>\n",
              "      <th>2000-01-03</th>\n",
              "      <td>-0.181937</td>\n",
              "      <td>-0.181937</td>\n",
              "      <td>-0.072066</td>\n",
              "    </tr>\n",
              "  </tbody>\n",
              "</table>\n",
              "</div>"
            ],
            "text/plain": [
              "                   A         B         C\n",
              "2000-01-01  0.072138  0.072138  0.130678\n",
              "2000-01-02 -0.447392 -0.447392  0.394855\n",
              "2000-01-03 -0.181937 -0.181937 -0.072066"
            ]
          },
          "execution_count": 107,
          "metadata": {},
          "output_type": "execute_result"
        }
      ],
      "source": [
        "df.loc['2000-01-01':'2000-01-03', 'A':'C']"
      ]
    },
    {
      "cell_type": "code",
      "execution_count": null,
      "metadata": {
        "id": "aokXdD0zKDbf",
        "outputId": "cceb75bb-21ad-4701-c008-4dd9a02b178c"
      },
      "outputs": [
        {
          "data": {
            "text/html": [
              "<div>\n",
              "<style scoped>\n",
              "    .dataframe tbody tr th:only-of-type {\n",
              "        vertical-align: middle;\n",
              "    }\n",
              "\n",
              "    .dataframe tbody tr th {\n",
              "        vertical-align: top;\n",
              "    }\n",
              "\n",
              "    .dataframe thead th {\n",
              "        text-align: right;\n",
              "    }\n",
              "</style>\n",
              "<table border=\"1\" class=\"dataframe\">\n",
              "  <thead>\n",
              "    <tr style=\"text-align: right;\">\n",
              "      <th></th>\n",
              "      <th>A</th>\n",
              "      <th>B</th>\n",
              "      <th>C</th>\n",
              "    </tr>\n",
              "  </thead>\n",
              "  <tbody>\n",
              "    <tr>\n",
              "      <th>2000-01-01</th>\n",
              "      <td>0.072138</td>\n",
              "      <td>0.072138</td>\n",
              "      <td>0.130678</td>\n",
              "    </tr>\n",
              "    <tr>\n",
              "      <th>2000-01-02</th>\n",
              "      <td>-0.447392</td>\n",
              "      <td>-0.447392</td>\n",
              "      <td>0.394855</td>\n",
              "    </tr>\n",
              "    <tr>\n",
              "      <th>...</th>\n",
              "      <td>...</td>\n",
              "      <td>...</td>\n",
              "      <td>...</td>\n",
              "    </tr>\n",
              "    <tr>\n",
              "      <th>2000-01-07</th>\n",
              "      <td>-0.290984</td>\n",
              "      <td>-0.290984</td>\n",
              "      <td>-0.071396</td>\n",
              "    </tr>\n",
              "    <tr>\n",
              "      <th>2000-01-08</th>\n",
              "      <td>-1.722406</td>\n",
              "      <td>-1.722406</td>\n",
              "      <td>-0.321653</td>\n",
              "    </tr>\n",
              "  </tbody>\n",
              "</table>\n",
              "<p>8 rows × 3 columns</p>\n",
              "</div>"
            ],
            "text/plain": [
              "                   A         B         C\n",
              "2000-01-01  0.072138  0.072138  0.130678\n",
              "2000-01-02 -0.447392 -0.447392  0.394855\n",
              "...              ...       ...       ...\n",
              "2000-01-07 -0.290984 -0.290984 -0.071396\n",
              "2000-01-08 -1.722406 -1.722406 -0.321653\n",
              "\n",
              "[8 rows x 3 columns]"
            ]
          },
          "execution_count": 108,
          "metadata": {},
          "output_type": "execute_result"
        }
      ],
      "source": [
        "# Get columns for which value is greater than 0 on certain day, get all rows\n",
        "df.loc[:, df.loc['2000-01-01'] > 0]"
      ]
    },
    {
      "cell_type": "markdown",
      "metadata": {
        "id": "QqB7P9p5KDbf"
      },
      "source": [
        "## Selecting by position \n",
        "\n",
        "- The .iloc attribute is the primary access method. The following are valid input:\n",
        "    - An integer\n",
        "    - A list of integers\n",
        "    - A slice \n",
        "    - A boolean array"
      ]
    },
    {
      "cell_type": "code",
      "execution_count": null,
      "metadata": {
        "id": "d0IvHNM3KDbf",
        "outputId": "961e50e6-9562-4092-ff4c-5c0585c42a54"
      },
      "outputs": [
        {
          "data": {
            "text/html": [
              "<div>\n",
              "<style scoped>\n",
              "    .dataframe tbody tr th:only-of-type {\n",
              "        vertical-align: middle;\n",
              "    }\n",
              "\n",
              "    .dataframe tbody tr th {\n",
              "        vertical-align: top;\n",
              "    }\n",
              "\n",
              "    .dataframe thead th {\n",
              "        text-align: right;\n",
              "    }\n",
              "</style>\n",
              "<table border=\"1\" class=\"dataframe\">\n",
              "  <thead>\n",
              "    <tr style=\"text-align: right;\">\n",
              "      <th></th>\n",
              "      <th>0</th>\n",
              "      <th>3</th>\n",
              "      <th>6</th>\n",
              "      <th>9</th>\n",
              "    </tr>\n",
              "  </thead>\n",
              "  <tbody>\n",
              "    <tr>\n",
              "      <th>0</th>\n",
              "      <td>-2.284364</td>\n",
              "      <td>-1.915094</td>\n",
              "      <td>-0.169369</td>\n",
              "      <td>0.152496</td>\n",
              "    </tr>\n",
              "    <tr>\n",
              "      <th>2</th>\n",
              "      <td>-1.567806</td>\n",
              "      <td>-0.926778</td>\n",
              "      <td>-1.946138</td>\n",
              "      <td>-0.332122</td>\n",
              "    </tr>\n",
              "    <tr>\n",
              "      <th>...</th>\n",
              "      <td>...</td>\n",
              "      <td>...</td>\n",
              "      <td>...</td>\n",
              "      <td>...</td>\n",
              "    </tr>\n",
              "    <tr>\n",
              "      <th>8</th>\n",
              "      <td>-0.032236</td>\n",
              "      <td>-0.499746</td>\n",
              "      <td>-1.804586</td>\n",
              "      <td>-0.293133</td>\n",
              "    </tr>\n",
              "    <tr>\n",
              "      <th>10</th>\n",
              "      <td>0.787448</td>\n",
              "      <td>1.298807</td>\n",
              "      <td>1.298763</td>\n",
              "      <td>-0.496095</td>\n",
              "    </tr>\n",
              "  </tbody>\n",
              "</table>\n",
              "<p>6 rows × 4 columns</p>\n",
              "</div>"
            ],
            "text/plain": [
              "           0         3         6         9\n",
              "0  -2.284364 -1.915094 -0.169369  0.152496\n",
              "2  -1.567806 -0.926778 -1.946138 -0.332122\n",
              "..       ...       ...       ...       ...\n",
              "8  -0.032236 -0.499746 -1.804586 -0.293133\n",
              "10  0.787448  1.298807  1.298763 -0.496095\n",
              "\n",
              "[6 rows x 4 columns]"
            ]
          },
          "execution_count": 109,
          "metadata": {},
          "output_type": "execute_result"
        }
      ],
      "source": [
        "df1 = pd.DataFrame(np.random.randn(6,4), \n",
        "                   index=list(range(0,12,2)), columns=list(range(0,12,3)))\n",
        "\n",
        "df1"
      ]
    },
    {
      "cell_type": "code",
      "execution_count": null,
      "metadata": {
        "id": "OAcq1G8jKDbg",
        "outputId": "23bf6f21-0035-4b61-f3af-3e622c5c7291"
      },
      "outputs": [
        {
          "data": {
            "text/html": [
              "<div>\n",
              "<style scoped>\n",
              "    .dataframe tbody tr th:only-of-type {\n",
              "        vertical-align: middle;\n",
              "    }\n",
              "\n",
              "    .dataframe tbody tr th {\n",
              "        vertical-align: top;\n",
              "    }\n",
              "\n",
              "    .dataframe thead th {\n",
              "        text-align: right;\n",
              "    }\n",
              "</style>\n",
              "<table border=\"1\" class=\"dataframe\">\n",
              "  <thead>\n",
              "    <tr style=\"text-align: right;\">\n",
              "      <th></th>\n",
              "      <th>0</th>\n",
              "      <th>3</th>\n",
              "      <th>6</th>\n",
              "      <th>9</th>\n",
              "    </tr>\n",
              "  </thead>\n",
              "  <tbody>\n",
              "    <tr>\n",
              "      <th>0</th>\n",
              "      <td>-2.284364</td>\n",
              "      <td>-1.915094</td>\n",
              "      <td>-0.169369</td>\n",
              "      <td>0.152496</td>\n",
              "    </tr>\n",
              "    <tr>\n",
              "      <th>2</th>\n",
              "      <td>-1.567806</td>\n",
              "      <td>-0.926778</td>\n",
              "      <td>-1.946138</td>\n",
              "      <td>-0.332122</td>\n",
              "    </tr>\n",
              "    <tr>\n",
              "      <th>4</th>\n",
              "      <td>-0.058571</td>\n",
              "      <td>-0.445539</td>\n",
              "      <td>0.911758</td>\n",
              "      <td>0.701645</td>\n",
              "    </tr>\n",
              "  </tbody>\n",
              "</table>\n",
              "</div>"
            ],
            "text/plain": [
              "          0         3         6         9\n",
              "0 -2.284364 -1.915094 -0.169369  0.152496\n",
              "2 -1.567806 -0.926778 -1.946138 -0.332122\n",
              "4 -0.058571 -0.445539  0.911758  0.701645"
            ]
          },
          "execution_count": 111,
          "metadata": {},
          "output_type": "execute_result"
        }
      ],
      "source": [
        "# rows 0-2\n",
        "df1.iloc[:3]"
      ]
    },
    {
      "cell_type": "code",
      "execution_count": null,
      "metadata": {
        "id": "TrFGAxzZKDbg",
        "outputId": "cc4ad16c-88e8-4184-96d4-4c02ad42e491"
      },
      "outputs": [
        {
          "data": {
            "text/html": [
              "<div>\n",
              "<style scoped>\n",
              "    .dataframe tbody tr th:only-of-type {\n",
              "        vertical-align: middle;\n",
              "    }\n",
              "\n",
              "    .dataframe tbody tr th {\n",
              "        vertical-align: top;\n",
              "    }\n",
              "\n",
              "    .dataframe thead th {\n",
              "        text-align: right;\n",
              "    }\n",
              "</style>\n",
              "<table border=\"1\" class=\"dataframe\">\n",
              "  <thead>\n",
              "    <tr style=\"text-align: right;\">\n",
              "      <th></th>\n",
              "      <th>6</th>\n",
              "      <th>9</th>\n",
              "    </tr>\n",
              "  </thead>\n",
              "  <tbody>\n",
              "    <tr>\n",
              "      <th>2</th>\n",
              "      <td>-1.946138</td>\n",
              "      <td>-0.332122</td>\n",
              "    </tr>\n",
              "    <tr>\n",
              "      <th>4</th>\n",
              "      <td>0.911758</td>\n",
              "      <td>0.701645</td>\n",
              "    </tr>\n",
              "    <tr>\n",
              "      <th>6</th>\n",
              "      <td>-0.383038</td>\n",
              "      <td>-0.810458</td>\n",
              "    </tr>\n",
              "    <tr>\n",
              "      <th>8</th>\n",
              "      <td>-1.804586</td>\n",
              "      <td>-0.293133</td>\n",
              "    </tr>\n",
              "  </tbody>\n",
              "</table>\n",
              "</div>"
            ],
            "text/plain": [
              "          6         9\n",
              "2 -1.946138 -0.332122\n",
              "4  0.911758  0.701645\n",
              "6 -0.383038 -0.810458\n",
              "8 -1.804586 -0.293133"
            ]
          },
          "execution_count": 112,
          "metadata": {},
          "output_type": "execute_result"
        }
      ],
      "source": [
        "#  rows 1:5  and columns 2 : 4\n",
        "df1.iloc[1:5, 2:4]"
      ]
    },
    {
      "cell_type": "code",
      "execution_count": null,
      "metadata": {
        "id": "GckEr4ekKDbg",
        "outputId": "45105e99-cbc4-4b7b-bda8-118efe482416"
      },
      "outputs": [
        {
          "data": {
            "text/html": [
              "<div>\n",
              "<style scoped>\n",
              "    .dataframe tbody tr th:only-of-type {\n",
              "        vertical-align: middle;\n",
              "    }\n",
              "\n",
              "    .dataframe tbody tr th {\n",
              "        vertical-align: top;\n",
              "    }\n",
              "\n",
              "    .dataframe thead th {\n",
              "        text-align: right;\n",
              "    }\n",
              "</style>\n",
              "<table border=\"1\" class=\"dataframe\">\n",
              "  <thead>\n",
              "    <tr style=\"text-align: right;\">\n",
              "      <th></th>\n",
              "      <th>3</th>\n",
              "      <th>9</th>\n",
              "    </tr>\n",
              "  </thead>\n",
              "  <tbody>\n",
              "    <tr>\n",
              "      <th>2</th>\n",
              "      <td>-0.926778</td>\n",
              "      <td>-0.332122</td>\n",
              "    </tr>\n",
              "    <tr>\n",
              "      <th>6</th>\n",
              "      <td>0.592305</td>\n",
              "      <td>-0.810458</td>\n",
              "    </tr>\n",
              "    <tr>\n",
              "      <th>10</th>\n",
              "      <td>1.298807</td>\n",
              "      <td>-0.496095</td>\n",
              "    </tr>\n",
              "  </tbody>\n",
              "</table>\n",
              "</div>"
            ],
            "text/plain": [
              "           3         9\n",
              "2  -0.926778 -0.332122\n",
              "6   0.592305 -0.810458\n",
              "10  1.298807 -0.496095"
            ]
          },
          "execution_count": 113,
          "metadata": {},
          "output_type": "execute_result"
        }
      ],
      "source": [
        "# select via integer list\n",
        "df1.iloc[[1,3,5], [1,3]]"
      ]
    },
    {
      "cell_type": "code",
      "execution_count": null,
      "metadata": {
        "id": "pV_yA7uoKDbh",
        "outputId": "3952eed1-eb41-469a-d84b-6d3cbeac0eff"
      },
      "outputs": [
        {
          "name": "stdout",
          "output_type": "stream",
          "text": [
            "[False False False  True False  True]\n"
          ]
        },
        {
          "data": {
            "text/plain": [
              "6     0.592305\n",
              "10    1.298807\n",
              "Name: 3, dtype: float64"
            ]
          },
          "execution_count": 114,
          "metadata": {},
          "output_type": "execute_result"
        }
      ],
      "source": [
        "# selecting via integer mask \n",
        "boolean_mask = df1.iloc[:, 1] > 0.0\n",
        "print(boolean_mask.values)\n",
        "df1.iloc[boolean_mask.values,1]"
      ]
    },
    {
      "cell_type": "markdown",
      "metadata": {
        "id": "zZPh3LsdKDbh"
      },
      "source": [
        "### Exercise\n",
        "\n",
        "Given the dataframe, find the following\n",
        "- Last two rows of columns A and D\n",
        "- Last three rows such which statisfy that column A > Column B"
      ]
    },
    {
      "cell_type": "code",
      "execution_count": null,
      "metadata": {
        "id": "ysJeENvJKDbh",
        "outputId": "219d8df9-3744-4bd0-c473-24a4b553972d"
      },
      "outputs": [
        {
          "data": {
            "text/html": [
              "<div>\n",
              "<style scoped>\n",
              "    .dataframe tbody tr th:only-of-type {\n",
              "        vertical-align: middle;\n",
              "    }\n",
              "\n",
              "    .dataframe tbody tr th {\n",
              "        vertical-align: top;\n",
              "    }\n",
              "\n",
              "    .dataframe thead th {\n",
              "        text-align: right;\n",
              "    }\n",
              "</style>\n",
              "<table border=\"1\" class=\"dataframe\">\n",
              "  <thead>\n",
              "    <tr style=\"text-align: right;\">\n",
              "      <th></th>\n",
              "      <th>A</th>\n",
              "      <th>B</th>\n",
              "      <th>C</th>\n",
              "      <th>D</th>\n",
              "    </tr>\n",
              "  </thead>\n",
              "  <tbody>\n",
              "    <tr>\n",
              "      <th>2000-01-01</th>\n",
              "      <td>-0.581130</td>\n",
              "      <td>-0.651216</td>\n",
              "      <td>-0.694888</td>\n",
              "      <td>0.689266</td>\n",
              "    </tr>\n",
              "    <tr>\n",
              "      <th>2000-01-02</th>\n",
              "      <td>0.165821</td>\n",
              "      <td>0.062039</td>\n",
              "      <td>0.817836</td>\n",
              "      <td>-1.659182</td>\n",
              "    </tr>\n",
              "    <tr>\n",
              "      <th>...</th>\n",
              "      <td>...</td>\n",
              "      <td>...</td>\n",
              "      <td>...</td>\n",
              "      <td>...</td>\n",
              "    </tr>\n",
              "    <tr>\n",
              "      <th>2000-01-07</th>\n",
              "      <td>-1.312414</td>\n",
              "      <td>-1.695559</td>\n",
              "      <td>-0.207214</td>\n",
              "      <td>-0.973227</td>\n",
              "    </tr>\n",
              "    <tr>\n",
              "      <th>2000-01-08</th>\n",
              "      <td>-1.185952</td>\n",
              "      <td>-1.027656</td>\n",
              "      <td>0.001086</td>\n",
              "      <td>-0.460512</td>\n",
              "    </tr>\n",
              "  </tbody>\n",
              "</table>\n",
              "<p>8 rows × 4 columns</p>\n",
              "</div>"
            ],
            "text/plain": [
              "                   A         B         C         D\n",
              "2000-01-01 -0.581130 -0.651216 -0.694888  0.689266\n",
              "2000-01-02  0.165821  0.062039  0.817836 -1.659182\n",
              "...              ...       ...       ...       ...\n",
              "2000-01-07 -1.312414 -1.695559 -0.207214 -0.973227\n",
              "2000-01-08 -1.185952 -1.027656  0.001086 -0.460512\n",
              "\n",
              "[8 rows x 4 columns]"
            ]
          },
          "execution_count": 115,
          "metadata": {},
          "output_type": "execute_result"
        }
      ],
      "source": [
        "dates = pd.date_range('1/1/2000', periods=8)\n",
        "df = pd.DataFrame(np.random.randn(8, 4), index=dates, columns=['A', 'B', 'C','D'])\n",
        "df"
      ]
    },
    {
      "cell_type": "code",
      "execution_count": null,
      "metadata": {
        "id": "4Ozx9R6uKDbh",
        "outputId": "09389fd2-c5a7-4563-f33f-ad6c11f0dbcd"
      },
      "outputs": [
        {
          "data": {
            "text/html": [
              "<div>\n",
              "<style scoped>\n",
              "    .dataframe tbody tr th:only-of-type {\n",
              "        vertical-align: middle;\n",
              "    }\n",
              "\n",
              "    .dataframe tbody tr th {\n",
              "        vertical-align: top;\n",
              "    }\n",
              "\n",
              "    .dataframe thead th {\n",
              "        text-align: right;\n",
              "    }\n",
              "</style>\n",
              "<table border=\"1\" class=\"dataframe\">\n",
              "  <thead>\n",
              "    <tr style=\"text-align: right;\">\n",
              "      <th></th>\n",
              "      <th>A</th>\n",
              "      <th>C</th>\n",
              "    </tr>\n",
              "  </thead>\n",
              "  <tbody>\n",
              "    <tr>\n",
              "      <th>2000-01-07</th>\n",
              "      <td>-1.312414</td>\n",
              "      <td>-0.207214</td>\n",
              "    </tr>\n",
              "    <tr>\n",
              "      <th>2000-01-08</th>\n",
              "      <td>-1.185952</td>\n",
              "      <td>0.001086</td>\n",
              "    </tr>\n",
              "  </tbody>\n",
              "</table>\n",
              "</div>"
            ],
            "text/plain": [
              "                   A         C\n",
              "2000-01-07 -1.312414 -0.207214\n",
              "2000-01-08 -1.185952  0.001086"
            ]
          },
          "execution_count": 117,
          "metadata": {},
          "output_type": "execute_result"
        }
      ],
      "source": [
        "df.loc[:, ['A','C']].iloc[-2:,:]"
      ]
    },
    {
      "cell_type": "code",
      "execution_count": null,
      "metadata": {
        "id": "i9yZPHQGKDbh",
        "outputId": "cf92cbb5-013a-40c1-8f42-a5ae4f9ba4da"
      },
      "outputs": [
        {
          "data": {
            "text/html": [
              "<div>\n",
              "<style scoped>\n",
              "    .dataframe tbody tr th:only-of-type {\n",
              "        vertical-align: middle;\n",
              "    }\n",
              "\n",
              "    .dataframe tbody tr th {\n",
              "        vertical-align: top;\n",
              "    }\n",
              "\n",
              "    .dataframe thead th {\n",
              "        text-align: right;\n",
              "    }\n",
              "</style>\n",
              "<table border=\"1\" class=\"dataframe\">\n",
              "  <thead>\n",
              "    <tr style=\"text-align: right;\">\n",
              "      <th></th>\n",
              "      <th>A</th>\n",
              "      <th>B</th>\n",
              "      <th>C</th>\n",
              "      <th>D</th>\n",
              "    </tr>\n",
              "  </thead>\n",
              "  <tbody>\n",
              "    <tr>\n",
              "      <th>2000-01-02</th>\n",
              "      <td>0.165821</td>\n",
              "      <td>0.062039</td>\n",
              "      <td>0.817836</td>\n",
              "      <td>-1.659182</td>\n",
              "    </tr>\n",
              "    <tr>\n",
              "      <th>2000-01-03</th>\n",
              "      <td>0.596201</td>\n",
              "      <td>-1.109279</td>\n",
              "      <td>0.963007</td>\n",
              "      <td>-1.036077</td>\n",
              "    </tr>\n",
              "    <tr>\n",
              "      <th>2000-01-07</th>\n",
              "      <td>-1.312414</td>\n",
              "      <td>-1.695559</td>\n",
              "      <td>-0.207214</td>\n",
              "      <td>-0.973227</td>\n",
              "    </tr>\n",
              "  </tbody>\n",
              "</table>\n",
              "</div>"
            ],
            "text/plain": [
              "                   A         B         C         D\n",
              "2000-01-02  0.165821  0.062039  0.817836 -1.659182\n",
              "2000-01-03  0.596201 -1.109279  0.963007 -1.036077\n",
              "2000-01-07 -1.312414 -1.695559 -0.207214 -0.973227"
            ]
          },
          "execution_count": 124,
          "metadata": {},
          "output_type": "execute_result"
        }
      ],
      "source": [
        "df.loc[df.A > df.B,:].iloc[-3:,:]"
      ]
    },
    {
      "cell_type": "markdown",
      "metadata": {
        "id": "AvBJAfiMKDbi"
      },
      "source": [
        "# Merging DataFrames\n",
        "\n",
        "- Pandas has full-featured, very high performance, in memory join operations that are very similar to SQL and R \n",
        "\n",
        "- The documentation is https://pandas.pydata.org/pandas-docs/stable/merging.html#database-style-dataframe-joining-merging\n",
        "\n",
        "- Pandas provides a single function, merge, as the entry point for all standard database join operations between DataFrame objects: \n",
        "``` python\n",
        "pd.merge(left, right, how='inner', on=None, left_on=None, right_on=None,\n",
        "left_index=False, right_index=False, sort=True) ```\n"
      ]
    },
    {
      "cell_type": "markdown",
      "metadata": {
        "id": "PCvXNOU8KDbi"
      },
      "source": [
        "The sequence of operations in a basic call to `pd.merge()` is:\n",
        "\n",
        "1. Check all columns in `left` and `right`. Let S be the set of columns which are present in both \n",
        "2. For every row of `left`, check if it has a corresponding row in `right` with the same values among the columns in S. \n",
        "3. If two matching rows are found, merge the rows together in the natural way.\n",
        "\n",
        "The `how` parameter determines how Pandas will deal with the rows that don't match."
      ]
    },
    {
      "cell_type": "code",
      "execution_count": null,
      "metadata": {
        "scrolled": false,
        "id": "d4cLZ7IdKDbi",
        "outputId": "5edccfd6-7716-4843-f63a-efe56818ac2f"
      },
      "outputs": [
        {
          "name": "stdout",
          "output_type": "stream",
          "text": [
            "left: \n",
            "--------------------------------------------------\n",
            "   key  lval\n",
            "0  foo     4\n",
            "1  bar     2\n",
            "--------------------------------------------------\n",
            "right: \n",
            "--------------------------------------------------\n",
            "   key  rval\n",
            "0  bar     4\n",
            "1  zoo     5\n"
          ]
        }
      ],
      "source": [
        "# Example of merge\n",
        "left = pd.DataFrame({'key': ['foo', 'bar'], 'lval': [4, 2]})\n",
        "right = pd.DataFrame({'key': ['bar', 'zoo'], 'rval': [4, 5]})\n",
        "\n",
        "print(\"left: \",left,\"right: \",right, sep=end_string)"
      ]
    },
    {
      "cell_type": "code",
      "execution_count": null,
      "metadata": {
        "id": "00tZK0NMKDbj",
        "outputId": "d5a281d3-3afd-44cd-c951-459cf5b3f95b"
      },
      "outputs": [
        {
          "name": "stdout",
          "output_type": "stream",
          "text": [
            "   key  lval  rval\n",
            "0  bar     2     4\n"
          ]
        }
      ],
      "source": [
        "merged = pd.merge(left, right, how=\"inner\")\n",
        "print(merged)\n",
        "#inner ignores all rows in left which don't have a match in right (and vice versa)"
      ]
    },
    {
      "cell_type": "code",
      "execution_count": null,
      "metadata": {
        "id": "5IgGbvy8KDbj",
        "outputId": "1e78709d-732e-465a-b189-54fbe8660cbe"
      },
      "outputs": [
        {
          "name": "stdout",
          "output_type": "stream",
          "text": [
            "   key  lval  rval\n",
            "0  foo   4.0   NaN\n",
            "1  bar   2.0   4.0\n",
            "2  zoo   NaN   5.0\n"
          ]
        }
      ],
      "source": [
        "merged = pd.merge(left, right, how=\"outer\")\n",
        "print(merged)\n",
        "#outer keeps all rows which don't have a match, filling missing entries with NaN"
      ]
    },
    {
      "cell_type": "code",
      "execution_count": null,
      "metadata": {
        "id": "BkXOQYwnKDbk",
        "outputId": "ca308fb6-17be-4859-dc4d-46fd9a3bb162"
      },
      "outputs": [
        {
          "name": "stdout",
          "output_type": "stream",
          "text": [
            "   key  lval  rval\n",
            "0  foo     4   NaN\n",
            "1  bar     2   4.0\n"
          ]
        }
      ],
      "source": [
        "merged = pd.merge(left, right, how=\"left\")\n",
        "print(merged)\n",
        "#left keeps all rows in `left` if they don't have a match, but ignores rows in right if they don't match"
      ]
    },
    {
      "cell_type": "code",
      "execution_count": null,
      "metadata": {
        "id": "RPfDMghuKDbk",
        "outputId": "23a94ec0-4c00-41d5-e60e-50a14f4876ab"
      },
      "outputs": [
        {
          "name": "stdout",
          "output_type": "stream",
          "text": [
            "   key  lval  rval\n",
            "0  bar   2.0     4\n",
            "1  zoo   NaN     5\n"
          ]
        }
      ],
      "source": [
        "merged = pd.merge(left, right, how=\"right\")\n",
        "print(merged)\n",
        "#right does the same thing as left but on the `right` df"
      ]
    },
    {
      "cell_type": "code",
      "execution_count": null,
      "metadata": {
        "id": "62swL26OKDbl",
        "outputId": "52ed66e5-02ee-474f-c1e5-2ddebb93c813"
      },
      "outputs": [
        {
          "name": "stdout",
          "output_type": "stream",
          "text": [
            "   key  lval  shared\n",
            "0  foo     4       1\n",
            "1  bar     2       1\n",
            "--------------------------------------------------\n",
            "\n",
            "\n",
            "   key  rval  shared\n",
            "0  bar     4       2\n",
            "1  zoo     5       2\n",
            "--------------------------------------------------\n",
            "   key  lval  shared_x  rval  shared_y\n",
            "0  bar     2         1     4         2\n",
            "--------------------------------------------------\n",
            "   key  lval  shared  rval\n",
            "0  bar     2       1     4\n"
          ]
        }
      ],
      "source": [
        "#the 'on' keyword specifies which columns to check for matches. By default .merge checks all shared columns\n",
        "left['shared'] = 1 \n",
        "right['shared'] = 2\n",
        "print(left,end=end_string)\n",
        "print('\\n')\n",
        "print(right,end=end_string)\n",
        "merged = pd.merge(left, right, how=\"inner\", on=['key'])\n",
        "print(merged,end=end_string)\n",
        "#this now merges based on 'key' only. \n",
        "right['shared'] = 1\n",
        "merged = pd.merge(left, right, how=\"inner\", on = ['key','shared'])\n",
        "print(merged)"
      ]
    },
    {
      "cell_type": "markdown",
      "metadata": {
        "id": "Or4a6Rn0KDbo"
      },
      "source": [
        "`on_left` and `on_right` lets us merge based on columns which have different names in `left` and `right` (they need to be of the same type though)"
      ]
    },
    {
      "cell_type": "code",
      "execution_count": null,
      "metadata": {
        "id": "REj1-5r3KDbo",
        "outputId": "fc2ffa7f-e404-4817-e65a-83ed1257a329"
      },
      "outputs": [
        {
          "name": "stdout",
          "output_type": "stream",
          "text": [
            "   key  lval  shared_x\n",
            "0  foo     4         1\n",
            "1  bar     2         1\n",
            "--------------------------------------------------\n",
            "\n",
            "\n",
            "   key  rval  shared_y\n",
            "0  bar     4         1\n",
            "1  zoo     5         1\n",
            "--------------------------------------------------\n",
            "   key  lval  shared_x  rval  shared_y\n",
            "0  bar     2         1     4         1\n",
            "--------------------------------------------------\n"
          ]
        }
      ],
      "source": [
        "left = pd.DataFrame({'key': ['foo', 'bar'], 'lval': [4, 2]})\n",
        "right = pd.DataFrame({'key': ['bar', 'zoo'], 'rval': [4, 5]})\n",
        "\n",
        "left['shared_x'] = 1 \n",
        "right['shared_y'] = 1\n",
        "print(left,end=end_string)\n",
        "print('\\n')\n",
        "print(right,end=end_string)\n",
        "merged = pd.merge(left, right, how=\"inner\", left_on =['shared_x', 'key'], right_on = ['shared_y', 'key'])\n",
        "print(merged,end=end_string)\n",
        "\n",
        "#the order matters here: \n",
        "\n",
        "#merged = pd.merge(left, right, how=\"inner\", left_on =['shared_x', 'key'], right_on = [ 'key', 'shared_y'])\n",
        "#returns an error\n",
        "\n",
        "#first column name in left gets matched to first column name in right, etc"
      ]
    },
    {
      "cell_type": "markdown",
      "metadata": {
        "id": "CySyBbndKDbo"
      },
      "source": [
        "## Function Application\n",
        " - Row or Column-wise Function Application: Applies function along input axis of DataFrame\n",
        "```python \n",
        "df.apply(func, axis = 0) ``` \n",
        " - Elementwise: apply the function to every element in the df \n",
        " ```python \n",
        "df.applymap(func) ``` \n",
        "\n",
        "- Note, ``` applymap ``` is equivalent to the ``` map ``` function on lists. \n",
        "- Note, ``` Series ``` objects support ``` .map ``` instead of ``` applymap ```"
      ]
    },
    {
      "cell_type": "code",
      "execution_count": null,
      "metadata": {
        "id": "fnAV2rrpKDbp",
        "outputId": "1e3e2256-3731-4d33-cb31-2c4f45b3c1ff"
      },
      "outputs": [
        {
          "data": {
            "text/html": [
              "<div>\n",
              "<style scoped>\n",
              "    .dataframe tbody tr th:only-of-type {\n",
              "        vertical-align: middle;\n",
              "    }\n",
              "\n",
              "    .dataframe tbody tr th {\n",
              "        vertical-align: top;\n",
              "    }\n",
              "\n",
              "    .dataframe thead th {\n",
              "        text-align: right;\n",
              "    }\n",
              "</style>\n",
              "<table border=\"1\" class=\"dataframe\">\n",
              "  <thead>\n",
              "    <tr style=\"text-align: right;\">\n",
              "      <th></th>\n",
              "      <th>a</th>\n",
              "      <th>b</th>\n",
              "      <th>c</th>\n",
              "      <th>d</th>\n",
              "    </tr>\n",
              "  </thead>\n",
              "  <tbody>\n",
              "    <tr>\n",
              "      <th>0</th>\n",
              "      <td>0.526124</td>\n",
              "      <td>2.301448</td>\n",
              "      <td>0.753817</td>\n",
              "      <td>0.001084</td>\n",
              "    </tr>\n",
              "    <tr>\n",
              "      <th>2</th>\n",
              "      <td>-0.426385</td>\n",
              "      <td>2.181263</td>\n",
              "      <td>-0.438376</td>\n",
              "      <td>-0.430508</td>\n",
              "    </tr>\n",
              "    <tr>\n",
              "      <th>...</th>\n",
              "      <td>...</td>\n",
              "      <td>...</td>\n",
              "      <td>...</td>\n",
              "      <td>...</td>\n",
              "    </tr>\n",
              "    <tr>\n",
              "      <th>8</th>\n",
              "      <td>-1.914637</td>\n",
              "      <td>0.939954</td>\n",
              "      <td>0.830109</td>\n",
              "      <td>-1.203724</td>\n",
              "    </tr>\n",
              "    <tr>\n",
              "      <th>10</th>\n",
              "      <td>0.240206</td>\n",
              "      <td>-0.511864</td>\n",
              "      <td>-0.250620</td>\n",
              "      <td>-0.145602</td>\n",
              "    </tr>\n",
              "  </tbody>\n",
              "</table>\n",
              "<p>6 rows × 4 columns</p>\n",
              "</div>"
            ],
            "text/plain": [
              "           a         b         c         d\n",
              "0   0.526124  2.301448  0.753817  0.001084\n",
              "2  -0.426385  2.181263 -0.438376 -0.430508\n",
              "..       ...       ...       ...       ...\n",
              "8  -1.914637  0.939954  0.830109 -1.203724\n",
              "10  0.240206 -0.511864 -0.250620 -0.145602\n",
              "\n",
              "[6 rows x 4 columns]"
            ]
          },
          "execution_count": 136,
          "metadata": {},
          "output_type": "execute_result"
        }
      ],
      "source": [
        "## APPLY EXAMPLES\n",
        "df1 = pd.DataFrame(np.random.randn(6,4), index=list(range(0,12,2)), columns=list('abcd'))\n",
        "df1"
      ]
    },
    {
      "cell_type": "code",
      "execution_count": null,
      "metadata": {
        "id": "vOAcnMX1KDbp",
        "outputId": "0e8e2540-1c19-4cf1-f87a-3b6e42b5b410"
      },
      "outputs": [
        {
          "data": {
            "text/plain": [
              "a   -0.560575\n",
              "b    0.763189\n",
              "c    0.202248\n",
              "d   -0.187495\n",
              "dtype: float64"
            ]
          },
          "execution_count": 139,
          "metadata": {},
          "output_type": "execute_result"
        }
      ],
      "source": [
        "# Apply to each column\n",
        "df1.apply(np.mean)"
      ]
    },
    {
      "cell_type": "code",
      "execution_count": null,
      "metadata": {
        "id": "Oc1Zs4YSKDbp",
        "outputId": "81b6a515-14ea-4e4f-864e-038ff885c0ea"
      },
      "outputs": [
        {
          "data": {
            "text/plain": [
              "0     0.895618\n",
              "2     0.221498\n",
              "        ...   \n",
              "8    -0.337074\n",
              "10   -0.166970\n",
              "Length: 6, dtype: float64"
            ]
          },
          "execution_count": 140,
          "metadata": {},
          "output_type": "execute_result"
        }
      ],
      "source": [
        "# Apply to each row\n",
        "df1.apply(np.mean, axis = 1)"
      ]
    },
    {
      "cell_type": "markdown",
      "metadata": {
        "id": "gEOnwyoIKDbp"
      },
      "source": [
        "### Side note: lambda functions\n",
        "\n",
        "lambda functions allow you to specify a function without giving it a separate declaration.  For example, the function \n",
        "```python\n",
        "lambda x: (x - x.mean())/x.std()\n",
        "```\n",
        "is equivalent to the function\n",
        "```python\n",
        "def normalize(x):\n",
        "    return (x - x.mean())/x.std()\n",
        "```\n",
        "You'll often see lambda functions used in list comprehensions, or in methods (like `map()`, `apply()`, or `applymap()`) that take a function as input."
      ]
    },
    {
      "cell_type": "code",
      "execution_count": null,
      "metadata": {
        "id": "iVCIIPJHKDbq",
        "outputId": "abc7a12e-52f2-46fb-a39e-508802816dba"
      },
      "outputs": [
        {
          "data": {
            "text/html": [
              "<div>\n",
              "<style scoped>\n",
              "    .dataframe tbody tr th:only-of-type {\n",
              "        vertical-align: middle;\n",
              "    }\n",
              "\n",
              "    .dataframe tbody tr th {\n",
              "        vertical-align: top;\n",
              "    }\n",
              "\n",
              "    .dataframe thead th {\n",
              "        text-align: right;\n",
              "    }\n",
              "</style>\n",
              "<table border=\"1\" class=\"dataframe\">\n",
              "  <thead>\n",
              "    <tr style=\"text-align: right;\">\n",
              "      <th></th>\n",
              "      <th>a</th>\n",
              "      <th>b</th>\n",
              "      <th>c</th>\n",
              "      <th>d</th>\n",
              "    </tr>\n",
              "  </thead>\n",
              "  <tbody>\n",
              "    <tr>\n",
              "      <th>0</th>\n",
              "      <td>1.157890</td>\n",
              "      <td>1.231496</td>\n",
              "      <td>0.946893</td>\n",
              "      <td>0.314441</td>\n",
              "    </tr>\n",
              "    <tr>\n",
              "      <th>2</th>\n",
              "      <td>0.142981</td>\n",
              "      <td>1.135278</td>\n",
              "      <td>-1.099775</td>\n",
              "      <td>-0.405208</td>\n",
              "    </tr>\n",
              "    <tr>\n",
              "      <th>...</th>\n",
              "      <td>...</td>\n",
              "      <td>...</td>\n",
              "      <td>...</td>\n",
              "      <td>...</td>\n",
              "    </tr>\n",
              "    <tr>\n",
              "      <th>8</th>\n",
              "      <td>-1.442767</td>\n",
              "      <td>0.141514</td>\n",
              "      <td>1.077864</td>\n",
              "      <td>-1.694489</td>\n",
              "    </tr>\n",
              "    <tr>\n",
              "      <th>10</th>\n",
              "      <td>0.853241</td>\n",
              "      <td>-1.020779</td>\n",
              "      <td>-0.777450</td>\n",
              "      <td>0.069853</td>\n",
              "    </tr>\n",
              "  </tbody>\n",
              "</table>\n",
              "<p>6 rows × 4 columns</p>\n",
              "</div>"
            ],
            "text/plain": [
              "           a         b         c         d\n",
              "0   1.157890  1.231496  0.946893  0.314441\n",
              "2   0.142981  1.135278 -1.099775 -0.405208\n",
              "..       ...       ...       ...       ...\n",
              "8  -1.442767  0.141514  1.077864 -1.694489\n",
              "10  0.853241 -1.020779 -0.777450  0.069853\n",
              "\n",
              "[6 rows x 4 columns]"
            ]
          },
          "execution_count": 146,
          "metadata": {},
          "output_type": "execute_result"
        }
      ],
      "source": [
        "def normalize(x):\n",
        "    return (x - x.mean())/x.std()\n",
        "# # Use lambda functions  to normalize columns\n",
        "df1 = df1.apply(lambda x: (x - x.mean())/ x.std(), axis = 0)\n",
        "df1"
      ]
    },
    {
      "cell_type": "code",
      "execution_count": null,
      "metadata": {
        "id": "qzg4AGNXKDbq",
        "outputId": "d5550d38-720e-41ac-e951-06536324328a"
      },
      "outputs": [
        {
          "data": {
            "text/html": [
              "<div>\n",
              "<style scoped>\n",
              "    .dataframe tbody tr th:only-of-type {\n",
              "        vertical-align: middle;\n",
              "    }\n",
              "\n",
              "    .dataframe tbody tr th {\n",
              "        vertical-align: top;\n",
              "    }\n",
              "\n",
              "    .dataframe thead th {\n",
              "        text-align: right;\n",
              "    }\n",
              "</style>\n",
              "<table border=\"1\" class=\"dataframe\">\n",
              "  <thead>\n",
              "    <tr style=\"text-align: right;\">\n",
              "      <th></th>\n",
              "      <th>A</th>\n",
              "      <th>B</th>\n",
              "      <th>C</th>\n",
              "    </tr>\n",
              "  </thead>\n",
              "  <tbody>\n",
              "    <tr>\n",
              "      <th>2000-01-01</th>\n",
              "      <td>0.476978</td>\n",
              "      <td>-1.039515</td>\n",
              "      <td>-0.588109</td>\n",
              "    </tr>\n",
              "    <tr>\n",
              "      <th>2000-01-02</th>\n",
              "      <td>0.737354</td>\n",
              "      <td>0.943007</td>\n",
              "      <td>0.718773</td>\n",
              "    </tr>\n",
              "    <tr>\n",
              "      <th>...</th>\n",
              "      <td>...</td>\n",
              "      <td>...</td>\n",
              "      <td>...</td>\n",
              "    </tr>\n",
              "    <tr>\n",
              "      <th>2002-09-25</th>\n",
              "      <td>0.545798</td>\n",
              "      <td>1.054202</td>\n",
              "      <td>0.757405</td>\n",
              "    </tr>\n",
              "    <tr>\n",
              "      <th>2002-09-26</th>\n",
              "      <td>-0.707027</td>\n",
              "      <td>-0.323966</td>\n",
              "      <td>-0.193242</td>\n",
              "    </tr>\n",
              "  </tbody>\n",
              "</table>\n",
              "<p>1000 rows × 3 columns</p>\n",
              "</div>"
            ],
            "text/plain": [
              "                   A         B         C\n",
              "2000-01-01  0.476978 -1.039515 -0.588109\n",
              "2000-01-02  0.737354  0.943007  0.718773\n",
              "...              ...       ...       ...\n",
              "2002-09-25  0.545798  1.054202  0.757405\n",
              "2002-09-26 -0.707027 -0.323966 -0.193242\n",
              "\n",
              "[1000 rows x 3 columns]"
            ]
          },
          "execution_count": 147,
          "metadata": {},
          "output_type": "execute_result"
        }
      ],
      "source": [
        "## APPLY EXAMPLES CONT\n",
        "# Create DF with 1000 rows and 3 columns filled with random entries\n",
        "tsdf = pd.DataFrame(np.random.randn(1000, 3), columns=['A', 'B', 'C'],\n",
        "                    index=pd.date_range('1/1/2000', periods=1000))\n",
        "\n",
        "tsdf"
      ]
    },
    {
      "cell_type": "code",
      "execution_count": null,
      "metadata": {
        "id": "oFaCJzOfKDbq",
        "outputId": "ddecefb8-bb9a-447c-bb11-7bb7c9fc2868"
      },
      "outputs": [
        {
          "data": {
            "text/plain": [
              "A   2000-06-29\n",
              "B   2000-10-24\n",
              "C   2001-10-23\n",
              "dtype: datetime64[ns]"
            ]
          },
          "execution_count": 148,
          "metadata": {},
          "output_type": "execute_result"
        }
      ],
      "source": [
        "# Can get trickier, say I wanted to find where the maximum dates occured for each column of the df:\n",
        "tsdf.apply(lambda x: x.idxmax())"
      ]
    },
    {
      "cell_type": "code",
      "execution_count": null,
      "metadata": {
        "id": "zEIVKPzbKDbq",
        "outputId": "4ac6b6fc-f29b-44f7-dfad-875c62e682a9"
      },
      "outputs": [
        {
          "name": "stdout",
          "output_type": "stream",
          "text": [
            "                   A         B         C\n",
            "2000-01-01 -0.523022 -2.039515 -1.588109\n",
            "2000-01-02 -0.262646 -0.056993 -0.281227\n",
            "...              ...       ...       ...\n",
            "2000-01-04  2.006551 -0.021430 -1.296728\n",
            "2000-01-05 -0.687576 -0.122353  0.450491\n",
            "\n",
            "[5 rows x 3 columns]\n"
          ]
        }
      ],
      "source": [
        "## APPLYMAP EXAMPLES\n",
        "tsdf = tsdf.applymap(lambda x: x - 1)\n",
        "print(tsdf.head())"
      ]
    },
    {
      "cell_type": "markdown",
      "metadata": {
        "id": "bNVi2Fi8KDbr"
      },
      "source": [
        "# I/O Functions\n",
        "\n",
        "- There are loads of input output features. The highlights most useful to you are likely:\n",
        "    - ``` pd.read_csv ``` / ``` pd.to_csv ``` \n",
        "    - ``` pd.read_excel ``` / ``` pd.to_excel ```\n",
        "    - ``` pd.read_sql ``` / ``` pd.to_sql ```\n",
        "    - ``` pd.read_pickle ``` / ``` pd.to_pickle ```\n",
        "Documentation:\n",
        "\n",
        "* [Pandas Import-Output Functions](https://pandas.pydata.org/pandas-docs/stable/io.html)"
      ]
    },
    {
      "cell_type": "markdown",
      "metadata": {
        "id": "sOrdV9QsKDbr"
      },
      "source": [
        "### Loading data from CSV\n",
        "Here are the first several lines of `iris.csv`:\n",
        "\n",
        "```\n",
        "sepal_length,sepal_width,petal_length,petal_width,name\n",
        "5.1,3.5,1.4,0.2,setosa\n",
        "4.9,3.0,1.4,0.2,setosa\n",
        "4.7,3.2,1.3,0.2,setosa\n",
        "4.6,3.1,1.5,0.2,setosa\n",
        "5.0,3.6,1.4,0.2,setosa\n",
        "5.4,3.9,1.7,0.4,setosa\n",
        "```"
      ]
    },
    {
      "cell_type": "code",
      "execution_count": null,
      "metadata": {
        "id": "4HinPmE1KDbr",
        "outputId": "f7e52aa9-61de-48f7-a4da-025fa08cf883"
      },
      "outputs": [
        {
          "name": "stdout",
          "output_type": "stream",
          "text": [
            "<class 'pandas.core.frame.DataFrame'>\n",
            "RangeIndex: 150 entries, 0 to 149\n",
            "Data columns (total 5 columns):\n",
            " #   Column        Non-Null Count  Dtype  \n",
            "---  ------        --------------  -----  \n",
            " 0   sepal_length  150 non-null    float64\n",
            " 1   sepal_width   150 non-null    float64\n",
            " 2   petal_length  150 non-null    float64\n",
            " 3   petal_width   150 non-null    float64\n",
            " 4   species       150 non-null    object \n",
            "dtypes: float64(4), object(1)\n",
            "memory usage: 6.0+ KB\n"
          ]
        }
      ],
      "source": [
        "import pandas as pd\n",
        "# Can use df.info to find out information about the df \n",
        "iris_data = pd.read_csv('https://gist.githubusercontent.com/curran/a08a1080b88344b0c8a7/raw/639388c2cbc2120a14dcf466e85730eb8be498bb/iris.csv')\n",
        "\n",
        "#iris_data = pd.read_csv('./data/iris.csv')\n",
        "iris_data.info()"
      ]
    },
    {
      "cell_type": "code",
      "execution_count": null,
      "metadata": {
        "id": "OdikF3nPKDbr",
        "outputId": "2867fa71-c575-4494-e081-3086baf686c4"
      },
      "outputs": [
        {
          "data": {
            "text/html": [
              "<div>\n",
              "<style scoped>\n",
              "    .dataframe tbody tr th:only-of-type {\n",
              "        vertical-align: middle;\n",
              "    }\n",
              "\n",
              "    .dataframe tbody tr th {\n",
              "        vertical-align: top;\n",
              "    }\n",
              "\n",
              "    .dataframe thead th {\n",
              "        text-align: right;\n",
              "    }\n",
              "</style>\n",
              "<table border=\"1\" class=\"dataframe\">\n",
              "  <thead>\n",
              "    <tr style=\"text-align: right;\">\n",
              "      <th></th>\n",
              "      <th>sepal_length</th>\n",
              "      <th>sepal_width</th>\n",
              "      <th>petal_length</th>\n",
              "      <th>petal_width</th>\n",
              "      <th>species</th>\n",
              "    </tr>\n",
              "  </thead>\n",
              "  <tbody>\n",
              "    <tr>\n",
              "      <th>0</th>\n",
              "      <td>5.1</td>\n",
              "      <td>3.5</td>\n",
              "      <td>1.4</td>\n",
              "      <td>0.2</td>\n",
              "      <td>setosa</td>\n",
              "    </tr>\n",
              "    <tr>\n",
              "      <th>1</th>\n",
              "      <td>4.9</td>\n",
              "      <td>3.0</td>\n",
              "      <td>1.4</td>\n",
              "      <td>0.2</td>\n",
              "      <td>setosa</td>\n",
              "    </tr>\n",
              "    <tr>\n",
              "      <th>...</th>\n",
              "      <td>...</td>\n",
              "      <td>...</td>\n",
              "      <td>...</td>\n",
              "      <td>...</td>\n",
              "      <td>...</td>\n",
              "    </tr>\n",
              "    <tr>\n",
              "      <th>148</th>\n",
              "      <td>6.2</td>\n",
              "      <td>3.4</td>\n",
              "      <td>5.4</td>\n",
              "      <td>2.3</td>\n",
              "      <td>virginica</td>\n",
              "    </tr>\n",
              "    <tr>\n",
              "      <th>149</th>\n",
              "      <td>5.9</td>\n",
              "      <td>3.0</td>\n",
              "      <td>5.1</td>\n",
              "      <td>1.8</td>\n",
              "      <td>virginica</td>\n",
              "    </tr>\n",
              "  </tbody>\n",
              "</table>\n",
              "<p>150 rows × 5 columns</p>\n",
              "</div>"
            ],
            "text/plain": [
              "     sepal_length  sepal_width  petal_length  petal_width    species\n",
              "0             5.1          3.5           1.4          0.2     setosa\n",
              "1             4.9          3.0           1.4          0.2     setosa\n",
              "..            ...          ...           ...          ...        ...\n",
              "148           6.2          3.4           5.4          2.3  virginica\n",
              "149           5.9          3.0           5.1          1.8  virginica\n",
              "\n",
              "[150 rows x 5 columns]"
            ]
          },
          "execution_count": 151,
          "metadata": {},
          "output_type": "execute_result"
        }
      ],
      "source": [
        "iris_data"
      ]
    },
    {
      "cell_type": "code",
      "execution_count": null,
      "metadata": {
        "id": "SS7hdE0cKDbs",
        "outputId": "ca67f00c-54ee-4c81-daf3-1bdbd987a58f"
      },
      "outputs": [
        {
          "data": {
            "text/html": [
              "<div>\n",
              "<style scoped>\n",
              "    .dataframe tbody tr th:only-of-type {\n",
              "        vertical-align: middle;\n",
              "    }\n",
              "\n",
              "    .dataframe tbody tr th {\n",
              "        vertical-align: top;\n",
              "    }\n",
              "\n",
              "    .dataframe thead th {\n",
              "        text-align: right;\n",
              "    }\n",
              "</style>\n",
              "<table border=\"1\" class=\"dataframe\">\n",
              "  <thead>\n",
              "    <tr style=\"text-align: right;\">\n",
              "      <th></th>\n",
              "      <th>sepal_length</th>\n",
              "      <th>sepal_width</th>\n",
              "      <th>petal_length</th>\n",
              "      <th>petal_width</th>\n",
              "    </tr>\n",
              "  </thead>\n",
              "  <tbody>\n",
              "    <tr>\n",
              "      <th>count</th>\n",
              "      <td>150.000000</td>\n",
              "      <td>150.000</td>\n",
              "      <td>150.000000</td>\n",
              "      <td>150.000000</td>\n",
              "    </tr>\n",
              "    <tr>\n",
              "      <th>mean</th>\n",
              "      <td>5.843333</td>\n",
              "      <td>3.054</td>\n",
              "      <td>3.758667</td>\n",
              "      <td>1.198667</td>\n",
              "    </tr>\n",
              "    <tr>\n",
              "      <th>...</th>\n",
              "      <td>...</td>\n",
              "      <td>...</td>\n",
              "      <td>...</td>\n",
              "      <td>...</td>\n",
              "    </tr>\n",
              "    <tr>\n",
              "      <th>75%</th>\n",
              "      <td>6.400000</td>\n",
              "      <td>3.300</td>\n",
              "      <td>5.100000</td>\n",
              "      <td>1.800000</td>\n",
              "    </tr>\n",
              "    <tr>\n",
              "      <th>max</th>\n",
              "      <td>7.900000</td>\n",
              "      <td>4.400</td>\n",
              "      <td>6.900000</td>\n",
              "      <td>2.500000</td>\n",
              "    </tr>\n",
              "  </tbody>\n",
              "</table>\n",
              "<p>8 rows × 4 columns</p>\n",
              "</div>"
            ],
            "text/plain": [
              "       sepal_length  sepal_width  petal_length  petal_width\n",
              "count    150.000000      150.000    150.000000   150.000000\n",
              "mean       5.843333        3.054      3.758667     1.198667\n",
              "...             ...          ...           ...          ...\n",
              "75%        6.400000        3.300      5.100000     1.800000\n",
              "max        7.900000        4.400      6.900000     2.500000\n",
              "\n",
              "[8 rows x 4 columns]"
            ]
          },
          "execution_count": 152,
          "metadata": {},
          "output_type": "execute_result"
        }
      ],
      "source": [
        "# describe and summarize the dataframe\n",
        "iris_data.describe()"
      ]
    },
    {
      "cell_type": "markdown",
      "metadata": {
        "id": "B3OejvRCKDbs"
      },
      "source": [
        "## The split/apply combo (groupyby)\n",
        "- pandas objects can be split on any of their axes. The abstract definition of grouping is to provide a mapping of labels to group names:\n",
        "- Syntax:  \n",
        "    - ``` groups = df.groupby(key) ```\n",
        "    - ``` groups = df.groupby(key, axis = 1) ```\n",
        "    - ``` groups = df.groupby([key1, key2], axis = 1) ```"
      ]
    },
    {
      "cell_type": "markdown",
      "metadata": {
        "id": "FV8K7tmKKDbs"
      },
      "source": [
        "\n",
        "- The group by concept is that we want to apply the same function on subsets of the dataframe, based on some key we use to split the DataFrame into subsets\n",
        "- This idea is referred to as the \"split-apply-combine\" operation:\n",
        "    - Split the data into groups based on some criteria\n",
        "    - Apply a function to each group independently\n",
        "    - Combine the results \n",
        "\n",
        "![image](https://i.stack.imgur.com/sgCn1.jpg)"
      ]
    },
    {
      "cell_type": "code",
      "execution_count": null,
      "metadata": {
        "id": "OqULeFubKDbs"
      },
      "outputs": [],
      "source": [
        "#start here lecture 7\n",
        "df = pd.DataFrame({'key':['A','B','C','A','B','C','A','B','C'],\n",
        "                   'data': [0, 5, 10, 5, 10, 15, 10, 15, 20]})\n",
        "df"
      ]
    },
    {
      "cell_type": "code",
      "execution_count": null,
      "metadata": {
        "id": "voI2p9B3KDbt"
      },
      "outputs": [],
      "source": [
        "sums = df.groupby('key').agg(np.mean)\n",
        "sums"
      ]
    },
    {
      "cell_type": "markdown",
      "metadata": {
        "id": "4wHQ_uYaKDbt"
      },
      "source": [
        "# Plotting data\n",
        "\n",
        "- The plot method on Series and DataFrame is just a wrapper on matplotlib plt.plot()\n",
        "- Many available plots:\n",
        "    - ‘bar’ or ‘barh’ for bar plots\n",
        "    - ‘hist’ for histogram\n",
        "    - ‘box’ for boxplot\n",
        "    - ‘kde’ or 'density' for density plots • ‘area’ for area plots\n",
        "    - ‘scatter’ for scatter plots\n",
        "    - ‘hexbin’ for hexagonal bin plots • ‘pie’ for pie plots\n",
        "    \n",
        "- There are several more complex plotting functions in pandas.tools.plotting that take a Series or DataFrame as an argument. These include:\n",
        "    - Scatter matrices\n",
        "    - Autocorrelation\n",
        "    - Bootstrap Plot"
      ]
    },
    {
      "cell_type": "code",
      "execution_count": null,
      "metadata": {
        "id": "Ug70pHfgKDbt"
      },
      "outputs": [],
      "source": [
        "import matplotlib.pyplot as plt"
      ]
    },
    {
      "cell_type": "code",
      "execution_count": null,
      "metadata": {
        "id": "LVDPtu3wKDbu"
      },
      "outputs": [],
      "source": [
        "iris_data.plot();"
      ]
    },
    {
      "cell_type": "code",
      "execution_count": null,
      "metadata": {
        "id": "AG8_5a4MKDbu"
      },
      "outputs": [],
      "source": [
        "## Quick example - Random walks\n",
        "df = pd.DataFrame(np.random.randn(1000, 4), index =pd.date_range('1/1/2000', periods=1000), columns=list('ABCD'))\n",
        "df = df.cumsum()\n",
        "df.plot()"
      ]
    },
    {
      "cell_type": "code",
      "execution_count": null,
      "metadata": {
        "id": "my3TGer_KDbu"
      },
      "outputs": [],
      "source": [
        "plt.figure()\n",
        "df.iloc[5].plot(kind = 'bar')\n",
        "plt.axhline(0, color = 'k')"
      ]
    },
    {
      "cell_type": "code",
      "execution_count": null,
      "metadata": {
        "id": "OBEAcThqKDbu"
      },
      "outputs": [],
      "source": [
        "#data = pd.read_csv('./data/iris.csv')\n",
        "ax = iris_data.groupby('species') \\\n",
        "         .get_group('setosa') \\\n",
        "         .boxplot(column=[\"sepal_length\",\"sepal_width\"], return_type='axes')"
      ]
    },
    {
      "cell_type": "code",
      "execution_count": null,
      "metadata": {
        "id": "MLnqPhMhKDbu"
      },
      "outputs": [],
      "source": [
        ""
      ]
    }
  ],
  "metadata": {
    "kernelspec": {
      "display_name": "Python 3 (ipykernel)",
      "language": "python",
      "name": "python3"
    },
    "language_info": {
      "codemirror_mode": {
        "name": "ipython",
        "version": 3
      },
      "file_extension": ".py",
      "mimetype": "text/x-python",
      "name": "python",
      "nbconvert_exporter": "python",
      "pygments_lexer": "ipython3",
      "version": "3.9.7"
    },
    "colab": {
      "name": "Lecture_6_post.ipynb",
      "provenance": []
    }
  },
  "nbformat": 4,
  "nbformat_minor": 0
}