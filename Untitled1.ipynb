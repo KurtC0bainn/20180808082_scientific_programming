{
 "cells": [
  {
   "cell_type": "code",
   "execution_count": 2,
   "id": "2657418b",
   "metadata": {},
   "outputs": [],
   "source": [
    "import pandas as pd\n",
    "import numpy as np\n",
    "import matplotlib.pyplot as plt"
   ]
  },
  {
   "cell_type": "code",
   "execution_count": 3,
   "id": "15e39209",
   "metadata": {},
   "outputs": [],
   "source": [
    "dataset = pd.read_csv(\"purchase_logs.csv\") # provide full path of the dataset between quotes\n",
    "X = dataset.iloc[:,:-1].values\n",
    "y = dataset.iloc[:, 3].values"
   ]
  },
  {
   "cell_type": "code",
   "execution_count": 4,
   "id": "7e1f7f9f",
   "metadata": {},
   "outputs": [
    {
     "data": {
      "text/html": [
       "<div>\n",
       "<style scoped>\n",
       "    .dataframe tbody tr th:only-of-type {\n",
       "        vertical-align: middle;\n",
       "    }\n",
       "\n",
       "    .dataframe tbody tr th {\n",
       "        vertical-align: top;\n",
       "    }\n",
       "\n",
       "    .dataframe thead th {\n",
       "        text-align: right;\n",
       "    }\n",
       "</style>\n",
       "<table border=\"1\" class=\"dataframe\">\n",
       "  <thead>\n",
       "    <tr style=\"text-align: right;\">\n",
       "      <th></th>\n",
       "      <th>Gender</th>\n",
       "      <th>Age</th>\n",
       "      <th>Salary</th>\n",
       "      <th>isPurchased</th>\n",
       "    </tr>\n",
       "  </thead>\n",
       "  <tbody>\n",
       "    <tr>\n",
       "      <th>0</th>\n",
       "      <td>Male</td>\n",
       "      <td>19</td>\n",
       "      <td>19000</td>\n",
       "      <td>0</td>\n",
       "    </tr>\n",
       "    <tr>\n",
       "      <th>1</th>\n",
       "      <td>Male</td>\n",
       "      <td>35</td>\n",
       "      <td>20000</td>\n",
       "      <td>0</td>\n",
       "    </tr>\n",
       "    <tr>\n",
       "      <th>2</th>\n",
       "      <td>Female</td>\n",
       "      <td>26</td>\n",
       "      <td>43000</td>\n",
       "      <td>0</td>\n",
       "    </tr>\n",
       "    <tr>\n",
       "      <th>3</th>\n",
       "      <td>Female</td>\n",
       "      <td>27</td>\n",
       "      <td>57000</td>\n",
       "      <td>0</td>\n",
       "    </tr>\n",
       "    <tr>\n",
       "      <th>4</th>\n",
       "      <td>Male</td>\n",
       "      <td>19</td>\n",
       "      <td>76000</td>\n",
       "      <td>0</td>\n",
       "    </tr>\n",
       "  </tbody>\n",
       "</table>\n",
       "</div>"
      ],
      "text/plain": [
       "   Gender  Age  Salary  isPurchased\n",
       "0    Male   19   19000            0\n",
       "1    Male   35   20000            0\n",
       "2  Female   26   43000            0\n",
       "3  Female   27   57000            0\n",
       "4    Male   19   76000            0"
      ]
     },
     "execution_count": 4,
     "metadata": {},
     "output_type": "execute_result"
    }
   ],
   "source": [
    "# I used the .head() function to see what the dataset actually looks like.\n",
    "dataset.head()"
   ]
  },
  {
   "cell_type": "code",
   "execution_count": 5,
   "id": "a10b31e3",
   "metadata": {},
   "outputs": [],
   "source": [
    "# Step 2 - Convert Gender to number\n",
    "from sklearn.preprocessing import LabelEncoder\n",
    "labelEncoder_gender =  LabelEncoder()\n",
    "X[:,0] = labelEncoder_gender.fit_transform(X[:,0])"
   ]
  },
  {
   "cell_type": "code",
   "execution_count": 6,
   "id": "5570a270",
   "metadata": {},
   "outputs": [
    {
     "name": "stdout",
     "output_type": "stream",
     "text": [
      "(400, 3)\n",
      "(400,)\n"
     ]
    }
   ],
   "source": [
    "# X, 400 x 4-dimensional matrix of features\n",
    "print(X.shape)\n",
    "# y is a 400 x 1-dimensional response vector\n",
    "print(y.shape)"
   ]
  },
  {
   "cell_type": "code",
   "execution_count": 7,
   "id": "feafe60a",
   "metadata": {},
   "outputs": [],
   "source": [
    "# Step 3 - Split into training and test data\n",
    "from sklearn.model_selection import train_test_split\n",
    "X_train, X_test, y_train, y_test = train_test_split(X, y, test_size=0.2, random_state=0)"
   ]
  },
  {
   "cell_type": "code",
   "execution_count": 8,
   "id": "5ab24f18",
   "metadata": {},
   "outputs": [
    {
     "name": "stdout",
     "output_type": "stream",
     "text": [
      "(320, 3)\n",
      "(80, 3)\n"
     ]
    }
   ],
   "source": [
    "# new X objects values\n",
    "print(X_train.shape)\n",
    "print(X_test.shape)"
   ]
  },
  {
   "cell_type": "code",
   "execution_count": 9,
   "id": "c55e593a",
   "metadata": {},
   "outputs": [
    {
     "name": "stdout",
     "output_type": "stream",
     "text": [
      "(320,)\n",
      "(80,)\n"
     ]
    }
   ],
   "source": [
    "# # new y objects values\n",
    "print(y_train.shape)\n",
    "print(y_test.shape)"
   ]
  },
  {
   "cell_type": "code",
   "execution_count": 10,
   "id": "08bc1872",
   "metadata": {},
   "outputs": [],
   "source": [
    "# Step 4 - Feature Scaling\n",
    "from sklearn.preprocessing import StandardScaler\n",
    "sc_X = StandardScaler()\n",
    "X_train = sc_X.fit_transform(X_train)\n",
    "X_test = sc_X.transform(X_test)"
   ]
  },
  {
   "cell_type": "code",
   "execution_count": 50,
   "id": "2867110a",
   "metadata": {
    "scrolled": true
   },
   "outputs": [
    {
     "data": {
      "text/plain": [
       "KNeighborsClassifier(metric='euclidean', n_neighbors=60)"
      ]
     },
     "execution_count": 50,
     "metadata": {},
     "output_type": "execute_result"
    }
   ],
   "source": [
    "# Step 5 - Fit KNN Classifier\n",
    "# I import KNNeighborsClassifier model\n",
    "from sklearn.neighbors import KNeighborsClassifier\n",
    "\n",
    "# It will decide according to the density in the nearest \"k\" neighbor. \n",
    "# I Create KNN Classifier \n",
    "knn = KNeighborsClassifier(n_neighbors = 60, metric = 'euclidean', p = 2)\n",
    "\n",
    "# Train the model using the training sets\n",
    "knn.fit(X_train, y_train)\n",
    "\n"
   ]
  },
  {
   "cell_type": "code",
   "execution_count": 51,
   "id": "3aaa572a",
   "metadata": {},
   "outputs": [
    {
     "name": "stdout",
     "output_type": "stream",
     "text": [
      "[0 0 0 0 0 0 0 1 0 0 0 0 0 0 0 0 0 0 1 0 0 1 0 1 0 1 0 0 0 0 0 0 0 0 0 0 0\n",
      " 0 0 0 0 0 0 0 1 0 0 1 0 0 1 0 0 0 1 0 0 0 0 0 0 1 0 0 0 1 0 0 0 0 1 0 0 0\n",
      " 0 0 0 0 0 1]\n"
     ]
    }
   ],
   "source": [
    "# Step 6 - Make Prediction\n",
    "# I Predict the response for test dataset\n",
    "y_pred = knn.predict(X_test)\n",
    "print(y_pred)"
   ]
  },
  {
   "cell_type": "code",
   "execution_count": 52,
   "id": "e6bae55f",
   "metadata": {},
   "outputs": [
    {
     "name": "stdout",
     "output_type": "stream",
     "text": [
      "[0 0 0 0 0 0 0 1 0 0 0 0 0 0 0 0 0 0 1 0 0 1 0 1 0 1 0 0 0 0 0 1 1 0 0 0 0\n",
      " 0 0 1 0 0 0 0 1 0 0 1 0 1 1 0 0 0 1 1 0 0 1 0 0 1 0 1 0 1 0 0 0 0 1 0 0 1\n",
      " 0 0 0 0 1 1]\n"
     ]
    }
   ],
   "source": [
    "print(y_test)"
   ]
  },
  {
   "cell_type": "code",
   "execution_count": 53,
   "id": "880c7449",
   "metadata": {},
   "outputs": [
    {
     "name": "stdout",
     "output_type": "stream",
     "text": [
      "[[58  0]\n",
      " [ 9 13]]\n",
      "Accuracy score: 0.8875\n",
      "Precision score: 1.0\n",
      "Recall score: 0.5909090909090909\n"
     ]
    }
   ],
   "source": [
    "# Step 7 - Confusion Matrix - Evaluation metrics calculations\n",
    "from sklearn import metrics\n",
    "cm = metrics.confusion_matrix(y_test, y_pred)\n",
    "#print(\"Confusion matrix: \", cm)\n",
    "print(cm)\n",
    "accuracy = metrics.accuracy_score(y_test, y_pred)\n",
    "print(\"Accuracy score:\",accuracy)\n",
    "precision = metrics.precision_score(y_test, y_pred)\n",
    "print(\"Precision score:\",precision)\n",
    "recall = metrics.recall_score(y_test, y_pred)\n",
    "print(\"Recall score:\",recall)"
   ]
  },
  {
   "cell_type": "code",
   "execution_count": 54,
   "id": "282abeaa",
   "metadata": {},
   "outputs": [
    {
     "name": "stdout",
     "output_type": "stream",
     "text": [
      "              precision    recall  f1-score   support\n",
      "\n",
      "           0       0.87      1.00      0.93        58\n",
      "           1       1.00      0.59      0.74        22\n",
      "\n",
      "    accuracy                           0.89        80\n",
      "   macro avg       0.93      0.80      0.84        80\n",
      "weighted avg       0.90      0.89      0.88        80\n",
      "\n"
     ]
    }
   ],
   "source": [
    "print(metrics.classification_report(y_test, y_pred))"
   ]
  },
  {
   "cell_type": "code",
   "execution_count": 55,
   "id": "24ad584f",
   "metadata": {},
   "outputs": [
    {
     "data": {
      "text/html": [
       "<div>\n",
       "<style scoped>\n",
       "    .dataframe tbody tr th:only-of-type {\n",
       "        vertical-align: middle;\n",
       "    }\n",
       "\n",
       "    .dataframe tbody tr th {\n",
       "        vertical-align: top;\n",
       "    }\n",
       "\n",
       "    .dataframe thead th {\n",
       "        text-align: right;\n",
       "    }\n",
       "</style>\n",
       "<table border=\"1\" class=\"dataframe\">\n",
       "  <thead>\n",
       "    <tr style=\"text-align: right;\">\n",
       "      <th>Predicted</th>\n",
       "      <th>0</th>\n",
       "      <th>1</th>\n",
       "      <th>All</th>\n",
       "    </tr>\n",
       "    <tr>\n",
       "      <th>Actual</th>\n",
       "      <th></th>\n",
       "      <th></th>\n",
       "      <th></th>\n",
       "    </tr>\n",
       "  </thead>\n",
       "  <tbody>\n",
       "    <tr>\n",
       "      <th>0</th>\n",
       "      <td>58</td>\n",
       "      <td>0</td>\n",
       "      <td>58</td>\n",
       "    </tr>\n",
       "    <tr>\n",
       "      <th>1</th>\n",
       "      <td>9</td>\n",
       "      <td>13</td>\n",
       "      <td>22</td>\n",
       "    </tr>\n",
       "    <tr>\n",
       "      <th>All</th>\n",
       "      <td>67</td>\n",
       "      <td>13</td>\n",
       "      <td>80</td>\n",
       "    </tr>\n",
       "  </tbody>\n",
       "</table>\n",
       "</div>"
      ],
      "text/plain": [
       "Predicted   0   1  All\n",
       "Actual                \n",
       "0          58   0   58\n",
       "1           9  13   22\n",
       "All        67  13   80"
      ]
     },
     "execution_count": 55,
     "metadata": {},
     "output_type": "execute_result"
    }
   ],
   "source": [
    "pd.crosstab(y_test, y_pred, rownames = ['Actual'], colnames =['Predicted'], margins = True)"
   ]
  },
  {
   "cell_type": "code",
   "execution_count": 49,
   "id": "a2098cd9",
   "metadata": {},
   "outputs": [
    {
     "data": {
      "text/plain": [
       "Text(0, 0.5, 'Error Rate')"
      ]
     },
     "execution_count": 49,
     "metadata": {},
     "output_type": "execute_result"
    },
    {
     "data": {
      "image/png": "[encoded data removed]",
      "text/plain": [
       "<Figure size 432x288 with 1 Axes>"
      ]
     },
     "metadata": {
      "needs_background": "light"
     },
     "output_type": "display_data"
    }
   ],
   "source": [
    "err = []\n",
    "# I will plot the mean error for the predicted values of the test set for all k values between 1 and 60.\n",
    "for i in range(1, 60):\n",
    "    knn = KNeighborsClassifier(n_neighbors = i, metric = 'euclidean', p = 2)\n",
    "    knn.fit(X_train, y_train)\n",
    "    # Calculating the mean error for the predicted values of the test set.\n",
    "    i_pred = knn.predict(X_test)\n",
    "    # The result obtained is added to the error list.\n",
    "    err.append(np.mean(y_test != i_pred))\n",
    "    \n",
    "    \n",
    "plt.plot(range(1, 60), err,  linestyle='solid', color='red', \n",
    "         markerfacecolor='blue', marker='.', markersize = 8)\n",
    "plt.title('Error Rate For k Value')\n",
    "plt.xlabel('k - Value')\n",
    "plt.ylabel('Error Rate')"
   ]
  },
  {
   "cell_type": "code",
   "execution_count": null,
   "id": "4fc3041c",
   "metadata": {},
   "outputs": [],
   "source": []
  }
 ],
 "metadata": {
  "kernelspec": {
   "display_name": "Python 3 (ipykernel)",
   "language": "python",
   "name": "python3"
  },
  "language_info": {
   "codemirror_mode": {
    "name": "ipython",
    "version": 3
   },
   "file_extension": ".py",
   "mimetype": "text/x-python",
   "name": "python",
   "nbconvert_exporter": "python",
   "pygments_lexer": "ipython3",
   "version": "3.10.0"
  }
 },
 "nbformat": 4,
 "nbformat_minor": 5
}
